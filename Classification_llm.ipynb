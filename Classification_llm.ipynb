{
  "nbformat": 4,
  "nbformat_minor": 0,
  "metadata": {
    "colab": {
      "provenance": []
    },
    "kernelspec": {
      "name": "python3",
      "display_name": "Python 3"
    },
    "language_info": {
      "name": "python"
    }
  },
  "cells": [
    {
      "cell_type": "markdown",
      "source": [],
      "metadata": {
        "id": "dvS_3VC23g5q"
      }
    },
    {
      "cell_type": "markdown",
      "source": [
        "# **Reuters-21578 News Classification Using Generative AI**"
      ],
      "metadata": {
        "id": "C4eiKTus3ggi"
      }
    },
    {
      "cell_type": "markdown",
      "source": [
        "## **Key Features of the Approach**\n",
        "- **Zero-shot Classification**:\n",
        "  - Classify articles directly using a pre-trained language model by crafting intuitive prompts without prior examples.\n",
        "- **One-shot Classification**:\n",
        "  - Guide the model with one labeled example to refine its contextual understanding for classification.\n",
        "- **Generative AI**:\n",
        "  - Use advanced language models capable of understanding and generating human-like text for predictive tasks."
      ],
      "metadata": {
        "id": "JvgVxkR43oDZ"
      }
    },
    {
      "cell_type": "markdown",
      "source": [
        "# import libraries"
      ],
      "metadata": {
        "id": "F_uZVm5o6CD6"
      }
    },
    {
      "cell_type": "code",
      "execution_count": 1,
      "metadata": {
        "colab": {
          "base_uri": "https://localhost:8080/"
        },
        "id": "S7QOpwLI2mjs",
        "outputId": "2fe63652-94ba-4ea4-b701-1798c7da4e1a"
      },
      "outputs": [
        {
          "output_type": "stream",
          "name": "stdout",
          "text": [
            "Requirement already satisfied: httpx==0.27.2 in /usr/local/lib/python3.10/dist-packages (0.27.2)\n",
            "Requirement already satisfied: anyio in /usr/local/lib/python3.10/dist-packages (from httpx==0.27.2) (3.7.1)\n",
            "Requirement already satisfied: certifi in /usr/local/lib/python3.10/dist-packages (from httpx==0.27.2) (2024.8.30)\n",
            "Requirement already satisfied: httpcore==1.* in /usr/local/lib/python3.10/dist-packages (from httpx==0.27.2) (1.0.7)\n",
            "Requirement already satisfied: idna in /usr/local/lib/python3.10/dist-packages (from httpx==0.27.2) (3.10)\n",
            "Requirement already satisfied: sniffio in /usr/local/lib/python3.10/dist-packages (from httpx==0.27.2) (1.3.1)\n",
            "Requirement already satisfied: h11<0.15,>=0.13 in /usr/local/lib/python3.10/dist-packages (from httpcore==1.*->httpx==0.27.2) (0.14.0)\n",
            "Requirement already satisfied: exceptiongroup in /usr/local/lib/python3.10/dist-packages (from anyio->httpx==0.27.2) (1.2.2)\n"
          ]
        }
      ],
      "source": [
        "!pip install httpx==0.27.2"
      ]
    },
    {
      "cell_type": "code",
      "source": [
        "! pip -qqq install langchain-openai"
      ],
      "metadata": {
        "colab": {
          "base_uri": "https://localhost:8080/"
        },
        "id": "VOurKuTW38ZB",
        "outputId": "45969bd8-a1f1-4baf-f8be-069dd9a72a1c"
      },
      "execution_count": 9,
      "outputs": [
        {
          "output_type": "stream",
          "name": "stdout",
          "text": [
            "\u001b[?25l   \u001b[90m━━━━━━━━━━━━━━━━━━━━━━━━━━━━━━━━━━━━━━━━\u001b[0m \u001b[32m0.0/50.7 kB\u001b[0m \u001b[31m?\u001b[0m eta \u001b[36m-:--:--\u001b[0m\r\u001b[2K   \u001b[90m━━━━━━━━━━━━━━━━━━━━━━━━━━━━━━━━━━━━━━━━\u001b[0m \u001b[32m50.7/50.7 kB\u001b[0m \u001b[31m1.8 MB/s\u001b[0m eta \u001b[36m0:00:00\u001b[0m\n",
            "\u001b[?25h\u001b[?25l   \u001b[90m━━━━━━━━━━━━━━━━━━━━━━━━━━━━━━━━━━━━━━━━\u001b[0m \u001b[32m0.0/1.2 MB\u001b[0m \u001b[31m?\u001b[0m eta \u001b[36m-:--:--\u001b[0m\r\u001b[2K   \u001b[91m━━━━━━━━━━━━━━━━━\u001b[0m\u001b[90m╺\u001b[0m\u001b[90m━━━━━━━━━━━━━━━━━━━━━━\u001b[0m \u001b[32m0.5/1.2 MB\u001b[0m \u001b[31m14.7 MB/s\u001b[0m eta \u001b[36m0:00:01\u001b[0m\r\u001b[2K   \u001b[90m━━━━━━━━━━━━━━━━━━━━━━━━━━━━━━━━━━━━━━━━\u001b[0m \u001b[32m1.2/1.2 MB\u001b[0m \u001b[31m17.5 MB/s\u001b[0m eta \u001b[36m0:00:00\u001b[0m\n",
            "\u001b[?25h"
          ]
        }
      ]
    },
    {
      "cell_type": "code",
      "source": [
        "from google.colab import userdata"
      ],
      "metadata": {
        "id": "xCbElPq82_gS"
      },
      "execution_count": 4,
      "outputs": []
    },
    {
      "cell_type": "code",
      "source": [
        "import os\n",
        "os.environ[\"OPENAI_API_KEY\"] = userdata.get('OPENAI_API_KEY1')"
      ],
      "metadata": {
        "id": "CJSiaGkH294R"
      },
      "execution_count": 17,
      "outputs": []
    },
    {
      "cell_type": "code",
      "source": [
        "from openai import OpenAI\n",
        "import numpy as np\n",
        "import pandas as pd\n",
        "from langchain_core.prompts import ChatPromptTemplate\n",
        "from langchain_openai import ChatOpenAI\n",
        "from pydantic import BaseModel, Field\n",
        "from typing import List\n",
        "from langchain_openai import ChatOpenAI\n",
        "client = OpenAI(max_retries=5)"
      ],
      "metadata": {
        "id": "Fx9WMp0a20_Z"
      },
      "execution_count": 11,
      "outputs": []
    },
    {
      "cell_type": "code",
      "source": [
        "from google.colab import drive\n",
        "drive.mount('/content/drive')"
      ],
      "metadata": {
        "colab": {
          "base_uri": "https://localhost:8080/"
        },
        "id": "7zQjqqez3q2J",
        "outputId": "8b3835a8-fc1e-4185-a6c1-ceb508d599b6"
      },
      "execution_count": 7,
      "outputs": [
        {
          "output_type": "stream",
          "name": "stdout",
          "text": [
            "Mounted at /content/drive\n"
          ]
        }
      ]
    },
    {
      "cell_type": "markdown",
      "source": [
        "# Dataset"
      ],
      "metadata": {
        "id": "XfzZsZG16EaQ"
      }
    },
    {
      "cell_type": "code",
      "source": [
        "file_path = '/content/drive/MyDrive/topics_classification_dataset.csv'\n",
        "df = pd.read_csv(file_path)\n",
        "df"
      ],
      "metadata": {
        "colab": {
          "base_uri": "https://localhost:8080/",
          "height": 424
        },
        "id": "ldOLnI8B31ph",
        "outputId": "cb433e15-fa1f-44fc-a1a3-2237664025c1"
      },
      "execution_count": 8,
      "outputs": [
        {
          "output_type": "execute_result",
          "data": {
            "text/plain": [
              "     LEWISSPLIT                                               Text    Topics\n",
              "0         TRAIN  JAGUAR SEES STRONG GROWTH IN NEW MODEL SALES J...      earn\n",
              "1         TRAIN  NORD RESOURCES CORP <NRD> 4TH QTR NET Shr 19 c...      earn\n",
              "2         TRAIN  FIVE GROUPS APPLY TO BUY FRENCH TELEPHONE GROU...       acq\n",
              "3         TRAIN  BLIZZARD CLOSES BOSPHORUS Blizzard conditions ...      ship\n",
              "4         TRAIN  JAPAN FUND <JPN> SEEKERS CONFIDENT OF FINANCIN...       acq\n",
              "...         ...                                                ...       ...\n",
              "7052      TRAIN  BAKER INTERNATIONAL CORP SUES HUGHES TOOL SEEK...       acq\n",
              "7053      TRAIN  USAIR GROUP REJECTS TRANS WORLD AIRLINES TAKEO...       acq\n",
              "7054      TRAIN  BAKER <BKO> SUES TO FORCE HUGHES <HT> MERGER B...       acq\n",
              "7055      TRAIN  SPAIN DEREGULATES BANK DEPOSIT INTEREST RATES ...  interest\n",
              "7056      TRAIN  USAIR <U> REJECTS TWA <TWA> TAKEOVER BID USAir...       acq\n",
              "\n",
              "[7057 rows x 3 columns]"
            ],
            "text/html": [
              "\n",
              "  <div id=\"df-78d9b07c-995a-412d-a68c-83e3199ee477\" class=\"colab-df-container\">\n",
              "    <div>\n",
              "<style scoped>\n",
              "    .dataframe tbody tr th:only-of-type {\n",
              "        vertical-align: middle;\n",
              "    }\n",
              "\n",
              "    .dataframe tbody tr th {\n",
              "        vertical-align: top;\n",
              "    }\n",
              "\n",
              "    .dataframe thead th {\n",
              "        text-align: right;\n",
              "    }\n",
              "</style>\n",
              "<table border=\"1\" class=\"dataframe\">\n",
              "  <thead>\n",
              "    <tr style=\"text-align: right;\">\n",
              "      <th></th>\n",
              "      <th>LEWISSPLIT</th>\n",
              "      <th>Text</th>\n",
              "      <th>Topics</th>\n",
              "    </tr>\n",
              "  </thead>\n",
              "  <tbody>\n",
              "    <tr>\n",
              "      <th>0</th>\n",
              "      <td>TRAIN</td>\n",
              "      <td>JAGUAR SEES STRONG GROWTH IN NEW MODEL SALES J...</td>\n",
              "      <td>earn</td>\n",
              "    </tr>\n",
              "    <tr>\n",
              "      <th>1</th>\n",
              "      <td>TRAIN</td>\n",
              "      <td>NORD RESOURCES CORP &lt;NRD&gt; 4TH QTR NET Shr 19 c...</td>\n",
              "      <td>earn</td>\n",
              "    </tr>\n",
              "    <tr>\n",
              "      <th>2</th>\n",
              "      <td>TRAIN</td>\n",
              "      <td>FIVE GROUPS APPLY TO BUY FRENCH TELEPHONE GROU...</td>\n",
              "      <td>acq</td>\n",
              "    </tr>\n",
              "    <tr>\n",
              "      <th>3</th>\n",
              "      <td>TRAIN</td>\n",
              "      <td>BLIZZARD CLOSES BOSPHORUS Blizzard conditions ...</td>\n",
              "      <td>ship</td>\n",
              "    </tr>\n",
              "    <tr>\n",
              "      <th>4</th>\n",
              "      <td>TRAIN</td>\n",
              "      <td>JAPAN FUND &lt;JPN&gt; SEEKERS CONFIDENT OF FINANCIN...</td>\n",
              "      <td>acq</td>\n",
              "    </tr>\n",
              "    <tr>\n",
              "      <th>...</th>\n",
              "      <td>...</td>\n",
              "      <td>...</td>\n",
              "      <td>...</td>\n",
              "    </tr>\n",
              "    <tr>\n",
              "      <th>7052</th>\n",
              "      <td>TRAIN</td>\n",
              "      <td>BAKER INTERNATIONAL CORP SUES HUGHES TOOL SEEK...</td>\n",
              "      <td>acq</td>\n",
              "    </tr>\n",
              "    <tr>\n",
              "      <th>7053</th>\n",
              "      <td>TRAIN</td>\n",
              "      <td>USAIR GROUP REJECTS TRANS WORLD AIRLINES TAKEO...</td>\n",
              "      <td>acq</td>\n",
              "    </tr>\n",
              "    <tr>\n",
              "      <th>7054</th>\n",
              "      <td>TRAIN</td>\n",
              "      <td>BAKER &lt;BKO&gt; SUES TO FORCE HUGHES &lt;HT&gt; MERGER B...</td>\n",
              "      <td>acq</td>\n",
              "    </tr>\n",
              "    <tr>\n",
              "      <th>7055</th>\n",
              "      <td>TRAIN</td>\n",
              "      <td>SPAIN DEREGULATES BANK DEPOSIT INTEREST RATES ...</td>\n",
              "      <td>interest</td>\n",
              "    </tr>\n",
              "    <tr>\n",
              "      <th>7056</th>\n",
              "      <td>TRAIN</td>\n",
              "      <td>USAIR &lt;U&gt; REJECTS TWA &lt;TWA&gt; TAKEOVER BID USAir...</td>\n",
              "      <td>acq</td>\n",
              "    </tr>\n",
              "  </tbody>\n",
              "</table>\n",
              "<p>7057 rows × 3 columns</p>\n",
              "</div>\n",
              "    <div class=\"colab-df-buttons\">\n",
              "\n",
              "  <div class=\"colab-df-container\">\n",
              "    <button class=\"colab-df-convert\" onclick=\"convertToInteractive('df-78d9b07c-995a-412d-a68c-83e3199ee477')\"\n",
              "            title=\"Convert this dataframe to an interactive table.\"\n",
              "            style=\"display:none;\">\n",
              "\n",
              "  <svg xmlns=\"http://www.w3.org/2000/svg\" height=\"24px\" viewBox=\"0 -960 960 960\">\n",
              "    <path d=\"M120-120v-720h720v720H120Zm60-500h600v-160H180v160Zm220 220h160v-160H400v160Zm0 220h160v-160H400v160ZM180-400h160v-160H180v160Zm440 0h160v-160H620v160ZM180-180h160v-160H180v160Zm440 0h160v-160H620v160Z\"/>\n",
              "  </svg>\n",
              "    </button>\n",
              "\n",
              "  <style>\n",
              "    .colab-df-container {\n",
              "      display:flex;\n",
              "      gap: 12px;\n",
              "    }\n",
              "\n",
              "    .colab-df-convert {\n",
              "      background-color: #E8F0FE;\n",
              "      border: none;\n",
              "      border-radius: 50%;\n",
              "      cursor: pointer;\n",
              "      display: none;\n",
              "      fill: #1967D2;\n",
              "      height: 32px;\n",
              "      padding: 0 0 0 0;\n",
              "      width: 32px;\n",
              "    }\n",
              "\n",
              "    .colab-df-convert:hover {\n",
              "      background-color: #E2EBFA;\n",
              "      box-shadow: 0px 1px 2px rgba(60, 64, 67, 0.3), 0px 1px 3px 1px rgba(60, 64, 67, 0.15);\n",
              "      fill: #174EA6;\n",
              "    }\n",
              "\n",
              "    .colab-df-buttons div {\n",
              "      margin-bottom: 4px;\n",
              "    }\n",
              "\n",
              "    [theme=dark] .colab-df-convert {\n",
              "      background-color: #3B4455;\n",
              "      fill: #D2E3FC;\n",
              "    }\n",
              "\n",
              "    [theme=dark] .colab-df-convert:hover {\n",
              "      background-color: #434B5C;\n",
              "      box-shadow: 0px 1px 3px 1px rgba(0, 0, 0, 0.15);\n",
              "      filter: drop-shadow(0px 1px 2px rgba(0, 0, 0, 0.3));\n",
              "      fill: #FFFFFF;\n",
              "    }\n",
              "  </style>\n",
              "\n",
              "    <script>\n",
              "      const buttonEl =\n",
              "        document.querySelector('#df-78d9b07c-995a-412d-a68c-83e3199ee477 button.colab-df-convert');\n",
              "      buttonEl.style.display =\n",
              "        google.colab.kernel.accessAllowed ? 'block' : 'none';\n",
              "\n",
              "      async function convertToInteractive(key) {\n",
              "        const element = document.querySelector('#df-78d9b07c-995a-412d-a68c-83e3199ee477');\n",
              "        const dataTable =\n",
              "          await google.colab.kernel.invokeFunction('convertToInteractive',\n",
              "                                                    [key], {});\n",
              "        if (!dataTable) return;\n",
              "\n",
              "        const docLinkHtml = 'Like what you see? Visit the ' +\n",
              "          '<a target=\"_blank\" href=https://colab.research.google.com/notebooks/data_table.ipynb>data table notebook</a>'\n",
              "          + ' to learn more about interactive tables.';\n",
              "        element.innerHTML = '';\n",
              "        dataTable['output_type'] = 'display_data';\n",
              "        await google.colab.output.renderOutput(dataTable, element);\n",
              "        const docLink = document.createElement('div');\n",
              "        docLink.innerHTML = docLinkHtml;\n",
              "        element.appendChild(docLink);\n",
              "      }\n",
              "    </script>\n",
              "  </div>\n",
              "\n",
              "\n",
              "<div id=\"df-2073054b-c89a-478a-878e-4391d38ce2c6\">\n",
              "  <button class=\"colab-df-quickchart\" onclick=\"quickchart('df-2073054b-c89a-478a-878e-4391d38ce2c6')\"\n",
              "            title=\"Suggest charts\"\n",
              "            style=\"display:none;\">\n",
              "\n",
              "<svg xmlns=\"http://www.w3.org/2000/svg\" height=\"24px\"viewBox=\"0 0 24 24\"\n",
              "     width=\"24px\">\n",
              "    <g>\n",
              "        <path d=\"M19 3H5c-1.1 0-2 .9-2 2v14c0 1.1.9 2 2 2h14c1.1 0 2-.9 2-2V5c0-1.1-.9-2-2-2zM9 17H7v-7h2v7zm4 0h-2V7h2v10zm4 0h-2v-4h2v4z\"/>\n",
              "    </g>\n",
              "</svg>\n",
              "  </button>\n",
              "\n",
              "<style>\n",
              "  .colab-df-quickchart {\n",
              "      --bg-color: #E8F0FE;\n",
              "      --fill-color: #1967D2;\n",
              "      --hover-bg-color: #E2EBFA;\n",
              "      --hover-fill-color: #174EA6;\n",
              "      --disabled-fill-color: #AAA;\n",
              "      --disabled-bg-color: #DDD;\n",
              "  }\n",
              "\n",
              "  [theme=dark] .colab-df-quickchart {\n",
              "      --bg-color: #3B4455;\n",
              "      --fill-color: #D2E3FC;\n",
              "      --hover-bg-color: #434B5C;\n",
              "      --hover-fill-color: #FFFFFF;\n",
              "      --disabled-bg-color: #3B4455;\n",
              "      --disabled-fill-color: #666;\n",
              "  }\n",
              "\n",
              "  .colab-df-quickchart {\n",
              "    background-color: var(--bg-color);\n",
              "    border: none;\n",
              "    border-radius: 50%;\n",
              "    cursor: pointer;\n",
              "    display: none;\n",
              "    fill: var(--fill-color);\n",
              "    height: 32px;\n",
              "    padding: 0;\n",
              "    width: 32px;\n",
              "  }\n",
              "\n",
              "  .colab-df-quickchart:hover {\n",
              "    background-color: var(--hover-bg-color);\n",
              "    box-shadow: 0 1px 2px rgba(60, 64, 67, 0.3), 0 1px 3px 1px rgba(60, 64, 67, 0.15);\n",
              "    fill: var(--button-hover-fill-color);\n",
              "  }\n",
              "\n",
              "  .colab-df-quickchart-complete:disabled,\n",
              "  .colab-df-quickchart-complete:disabled:hover {\n",
              "    background-color: var(--disabled-bg-color);\n",
              "    fill: var(--disabled-fill-color);\n",
              "    box-shadow: none;\n",
              "  }\n",
              "\n",
              "  .colab-df-spinner {\n",
              "    border: 2px solid var(--fill-color);\n",
              "    border-color: transparent;\n",
              "    border-bottom-color: var(--fill-color);\n",
              "    animation:\n",
              "      spin 1s steps(1) infinite;\n",
              "  }\n",
              "\n",
              "  @keyframes spin {\n",
              "    0% {\n",
              "      border-color: transparent;\n",
              "      border-bottom-color: var(--fill-color);\n",
              "      border-left-color: var(--fill-color);\n",
              "    }\n",
              "    20% {\n",
              "      border-color: transparent;\n",
              "      border-left-color: var(--fill-color);\n",
              "      border-top-color: var(--fill-color);\n",
              "    }\n",
              "    30% {\n",
              "      border-color: transparent;\n",
              "      border-left-color: var(--fill-color);\n",
              "      border-top-color: var(--fill-color);\n",
              "      border-right-color: var(--fill-color);\n",
              "    }\n",
              "    40% {\n",
              "      border-color: transparent;\n",
              "      border-right-color: var(--fill-color);\n",
              "      border-top-color: var(--fill-color);\n",
              "    }\n",
              "    60% {\n",
              "      border-color: transparent;\n",
              "      border-right-color: var(--fill-color);\n",
              "    }\n",
              "    80% {\n",
              "      border-color: transparent;\n",
              "      border-right-color: var(--fill-color);\n",
              "      border-bottom-color: var(--fill-color);\n",
              "    }\n",
              "    90% {\n",
              "      border-color: transparent;\n",
              "      border-bottom-color: var(--fill-color);\n",
              "    }\n",
              "  }\n",
              "</style>\n",
              "\n",
              "  <script>\n",
              "    async function quickchart(key) {\n",
              "      const quickchartButtonEl =\n",
              "        document.querySelector('#' + key + ' button');\n",
              "      quickchartButtonEl.disabled = true;  // To prevent multiple clicks.\n",
              "      quickchartButtonEl.classList.add('colab-df-spinner');\n",
              "      try {\n",
              "        const charts = await google.colab.kernel.invokeFunction(\n",
              "            'suggestCharts', [key], {});\n",
              "      } catch (error) {\n",
              "        console.error('Error during call to suggestCharts:', error);\n",
              "      }\n",
              "      quickchartButtonEl.classList.remove('colab-df-spinner');\n",
              "      quickchartButtonEl.classList.add('colab-df-quickchart-complete');\n",
              "    }\n",
              "    (() => {\n",
              "      let quickchartButtonEl =\n",
              "        document.querySelector('#df-2073054b-c89a-478a-878e-4391d38ce2c6 button');\n",
              "      quickchartButtonEl.style.display =\n",
              "        google.colab.kernel.accessAllowed ? 'block' : 'none';\n",
              "    })();\n",
              "  </script>\n",
              "</div>\n",
              "\n",
              "  <div id=\"id_9d0bf445-31f2-4ef8-a8b8-e85e871ec4c9\">\n",
              "    <style>\n",
              "      .colab-df-generate {\n",
              "        background-color: #E8F0FE;\n",
              "        border: none;\n",
              "        border-radius: 50%;\n",
              "        cursor: pointer;\n",
              "        display: none;\n",
              "        fill: #1967D2;\n",
              "        height: 32px;\n",
              "        padding: 0 0 0 0;\n",
              "        width: 32px;\n",
              "      }\n",
              "\n",
              "      .colab-df-generate:hover {\n",
              "        background-color: #E2EBFA;\n",
              "        box-shadow: 0px 1px 2px rgba(60, 64, 67, 0.3), 0px 1px 3px 1px rgba(60, 64, 67, 0.15);\n",
              "        fill: #174EA6;\n",
              "      }\n",
              "\n",
              "      [theme=dark] .colab-df-generate {\n",
              "        background-color: #3B4455;\n",
              "        fill: #D2E3FC;\n",
              "      }\n",
              "\n",
              "      [theme=dark] .colab-df-generate:hover {\n",
              "        background-color: #434B5C;\n",
              "        box-shadow: 0px 1px 3px 1px rgba(0, 0, 0, 0.15);\n",
              "        filter: drop-shadow(0px 1px 2px rgba(0, 0, 0, 0.3));\n",
              "        fill: #FFFFFF;\n",
              "      }\n",
              "    </style>\n",
              "    <button class=\"colab-df-generate\" onclick=\"generateWithVariable('df')\"\n",
              "            title=\"Generate code using this dataframe.\"\n",
              "            style=\"display:none;\">\n",
              "\n",
              "  <svg xmlns=\"http://www.w3.org/2000/svg\" height=\"24px\"viewBox=\"0 0 24 24\"\n",
              "       width=\"24px\">\n",
              "    <path d=\"M7,19H8.4L18.45,9,17,7.55,7,17.6ZM5,21V16.75L18.45,3.32a2,2,0,0,1,2.83,0l1.4,1.43a1.91,1.91,0,0,1,.58,1.4,1.91,1.91,0,0,1-.58,1.4L9.25,21ZM18.45,9,17,7.55Zm-12,3A5.31,5.31,0,0,0,4.9,8.1,5.31,5.31,0,0,0,1,6.5,5.31,5.31,0,0,0,4.9,4.9,5.31,5.31,0,0,0,6.5,1,5.31,5.31,0,0,0,8.1,4.9,5.31,5.31,0,0,0,12,6.5,5.46,5.46,0,0,0,6.5,12Z\"/>\n",
              "  </svg>\n",
              "    </button>\n",
              "    <script>\n",
              "      (() => {\n",
              "      const buttonEl =\n",
              "        document.querySelector('#id_9d0bf445-31f2-4ef8-a8b8-e85e871ec4c9 button.colab-df-generate');\n",
              "      buttonEl.style.display =\n",
              "        google.colab.kernel.accessAllowed ? 'block' : 'none';\n",
              "\n",
              "      buttonEl.onclick = () => {\n",
              "        google.colab.notebook.generateWithVariable('df');\n",
              "      }\n",
              "      })();\n",
              "    </script>\n",
              "  </div>\n",
              "\n",
              "    </div>\n",
              "  </div>\n"
            ],
            "application/vnd.google.colaboratory.intrinsic+json": {
              "type": "dataframe",
              "variable_name": "df",
              "summary": "{\n  \"name\": \"df\",\n  \"rows\": 7057,\n  \"fields\": [\n    {\n      \"column\": \"LEWISSPLIT\",\n      \"properties\": {\n        \"dtype\": \"category\",\n        \"num_unique_values\": 3,\n        \"samples\": [\n          \"TRAIN\",\n          \"TEST\",\n          \"NOT-USED\"\n        ],\n        \"semantic_type\": \"\",\n        \"description\": \"\"\n      }\n    },\n    {\n      \"column\": \"Text\",\n      \"properties\": {\n        \"dtype\": \"string\",\n        \"num_unique_values\": 6995,\n        \"samples\": [\n          \"U.K. FIRM UPS ITALY FUND <ITA> STAKE TO 12 PCT Lloyds Investment Managers Ltd, a\\nLondon-based investment firm, said it raised it stake in Italy\\nFund to 760,500 shares, or 12.0 pct of the total outstanding\\ncommon stock, from 466,000 shares, or 7.4 pct.\\n    In a filing with the Securities and Exchange Commission,\\nLloyds said it bought the additional 294,500 Italy Fund common\\nshares since November 7 for a total of 3.3 mln dlrs. Another\\n70,000 shares of the stake are held by an affiliate, it said.\\n    It said its dealings in Italy Fund stock are for investment\\npurposes only and that it has no current plans to increase or\\ndecrease its current stake.\\n Reuter\\n\\u0003\",\n          \"NYNEX INCREASES QTRLY DIV TO 95 CTS FROM 87 CTS end of body\\n \",\n          \"JUSTIN INDUSTRIES INC <JSTN> SETS DIVIDEND Qtly div 10 cts vs 10 cts prior\\n    Pay April 10\\n    Record March 27\\n Reuter\\n\\u0003\"\n        ],\n        \"semantic_type\": \"\",\n        \"description\": \"\"\n      }\n    },\n    {\n      \"column\": \"Topics\",\n      \"properties\": {\n        \"dtype\": \"category\",\n        \"num_unique_values\": 5,\n        \"samples\": [\n          \"acq\",\n          \"interest\",\n          \"ship\"\n        ],\n        \"semantic_type\": \"\",\n        \"description\": \"\"\n      }\n    }\n  ]\n}"
            }
          },
          "metadata": {},
          "execution_count": 8
        }
      ]
    },
    {
      "cell_type": "markdown",
      "source": [
        "# Initialize LLM"
      ],
      "metadata": {
        "id": "SkqhLneM58Ht"
      }
    },
    {
      "cell_type": "code",
      "source": [
        "class Classification(BaseModel):\n",
        "    topics: List[str] = Field(\n",
        "        description=(\n",
        "            \"The topic that the article belongs to. You must choose exactly one. \"\n",
        "            \"Possible values are: 'money-fx', 'ship', 'interest', 'acq', 'earn'.\"\n",
        "        )\n",
        "    )\n",
        "\n",
        "llm = ChatOpenAI(temperature=0, model=\"gpt-4\").with_structured_output(Classification)"
      ],
      "metadata": {
        "id": "NdT7nVWN4DQB"
      },
      "execution_count": 20,
      "outputs": []
    },
    {
      "cell_type": "code",
      "source": [
        "prompt = ChatPromptTemplate.from_template(\n",
        "     \"\"\"\n",
        "You are an expert news classifier. Your task is to read the following passage and classify it into exactly one of the following topics:\n",
        "\n",
        "- money-fx\n",
        "- ship\n",
        "- interest\n",
        "- acq\n",
        "- earn\n",
        "\n",
        "You **must** choose exactly one topic from the list above. If the passage does not perfectly match any topic, choose the closest relevant topic based on its overall context.\n",
        "\n",
        "**Output Format:**\n",
        "Provide your answer in JSON format matching the 'Classification' class.\n",
        "\n",
        "Example:\n",
        "{{\n",
        "    \"topics\": [\"earn\"]\n",
        "}}\n",
        "\n",
        "Passage:\n",
        "{input}\n",
        "\"\"\"\n",
        ")"
      ],
      "metadata": {
        "id": "T788Lu494WCw"
      },
      "execution_count": 18,
      "outputs": []
    },
    {
      "cell_type": "code",
      "source": [
        "response = llm.invoke(prompt.format(input=df[(df['LEWISSPLIT'] == 'TRAIN')]['Text'][0]))\n",
        "\n",
        "print(response.topics)"
      ],
      "metadata": {
        "colab": {
          "base_uri": "https://localhost:8080/"
        },
        "id": "pHCrUd4l4eGx",
        "outputId": "5bebe608-fa73-4cd4-ed0b-dd21bc5b78a4"
      },
      "execution_count": 33,
      "outputs": [
        {
          "output_type": "stream",
          "name": "stdout",
          "text": [
            "['earn']\n"
          ]
        }
      ]
    },
    {
      "cell_type": "code",
      "source": [
        "df[(df['LEWISSPLIT'] == 'TRAIN')]['Topics'][0]"
      ],
      "metadata": {
        "colab": {
          "base_uri": "https://localhost:8080/",
          "height": 36
        },
        "id": "m7sSC8474zWF",
        "outputId": "90dc8628-a5ca-4b0a-8643-e5837593d5e5"
      },
      "execution_count": 34,
      "outputs": [
        {
          "output_type": "execute_result",
          "data": {
            "text/plain": [
              "'earn'"
            ],
            "application/vnd.google.colaboratory.intrinsic+json": {
              "type": "string"
            }
          },
          "metadata": {},
          "execution_count": 34
        }
      ]
    },
    {
      "cell_type": "markdown",
      "source": [
        "#  Prompt Engineering for one-shot Classification\n",
        "\n"
      ],
      "metadata": {
        "id": "ZFnwI6Ri5a-0"
      }
    },
    {
      "cell_type": "code",
      "source": [
        "examples = [\n",
        "    {\n",
        "        \"example_passage\": \"Zambia will reintroduce a modified\\nforeign exchange auction at the end of this month as part of a\\nnew two-tier exchange rate, central bank governor Leonard\\nChivuno said.\\n    Chivuno told a press conference at the end of three weeks\\nof negotiations with the International Monetary Fund (IMF) that\\nthere would be a fixed exchange rate for official transactions\\nand a fluctuating rate, decided by the auction, for other types\\nof business.\\n    The Bank of Zambia previously held weekly auctions to\\ndistribute foreign exchange to the private sector and determine\\nthe kwacha's exchange rate, but these were suspended at the end\\nof January.\\n    President Kenneth Kaunda said at the time that he was\\nsuspending the auction system in view of the rapid devaluation\\nand violent fluctuations of the exchange rate which had\\nresulted.\\n    Business and banking sources said another reason for\\nsuspending the auction was that the central bank was low on\\nforeign exchange and was 10 weeks behind in paying successful\\nbidders.    The kwacha stood at 2.2 per dollar when the auction system\\nwas first introduced in October 1985, but it slid to around 15\\nper dollar by the time it was suspended 16 months later.\\n    Since then, Zambia has operated a fixed exchange rate of\\nabout nine kwacha per dollar.\\n REUTER\\n\\x03\",\n",
        "        \"example_classification\": {\"topics\": [\"money-fx\"]},\n",
        "    },\n",
        "    {\n",
        "        \"example_passage\": \"Some 10 Indian ships have been held up\\nat Calcutta port after four days of industrial action by local\\nseamen, a spokesman for the shipowners' association INSA said.\\n    The dispute has prevented local crewmen signing on and off,\\nbut has not affected foreign ships with international crews\\ndocking at Calcutta, which exports tea and jute and imports\\nmachinery, crude oil and petroleum products, the spokesman\\nsaid.\\n    Foreign ships may also suffer if dock workers join the\\naction, he said. The Shipping Corporation of India (SCI) has\\nasked its ships to avoid the port until the dispute is over,\\nNational Union of Seafarers in India president Leo Barnes said.\\n Reuter\\n\\x03\",\n",
        "        \"example_classification\": {\"topics\": [\"ship\"]},\n",
        "    },\n",
        "    {\n",
        "        \"example_passage\": \"British bank base lending rates are\\nlikely to fall by as much as one full point to 9-1/2 pct this\\nweek following the sharp three billion stg cut in the U.K.\\nCentral government borrowing target to four billion stg set in\\ntoday's 1987 budget, bank analysts said.\\n    The analysts described Chancellor of the Exchequer Nigel\\nLawson's budget as cautious, a quality which currency and money\\nmarkets had already started to reward.\\n    Sterling surged on foreign exchange markets and money\\nmarket interest rates moved sharply lower as news of the budget\\nmeasures came through, the analysts said.\\n    Lloyds merchant bank chief economist Roger Bootle said he\\nexpected base rates to be cut by one full point tomorrow.\\n    \\\"This is very much a safety-first budget in order to get\\ninterest rates down,\\\" he said.\\n    Bootle said the money markets had almost entirely\\ndiscounted such a one point cut, with the key three month\\ninterbank rate down to 9-11/16 pct from 9-13/16 last night, and\\nit \",\n",
        "        \"example_classification\": {\"topics\": [\"interest\"]},\n",
        "    },\n",
        "    {\n",
        "        \"example_passage\": \"Irving Bank Corp said it bought the\\nfactoring division of Associates Commercial Corp, a unit of\\nGulf and Western Co Inc's Associates Corp of North America.\\n    The terms of the previously announced deal were not\\ndisclosed.\\n    It said the assets were transferred to Irving Commercial\\nCorp.\\n\\n Reuter\\n\\x03\",\n",
        "        \"example_classification\": {\"topics\": [\"acq\"]},\n",
        "    },\n",
        "    {\n",
        "        \"example_passage\": \"Shr five cts vs one ct\\n    Net 196,986 vs 37,966\\n    Revs 15.5 mln vs 8,900,000\\n    Nine mths\\n    Shr 52 cts vs 22 cts\\n    Net two mln vs 874,000\\n    Revs 53.7 mln vs 28.6 mln\\n Reuter\\n\\x03\",\n",
        "        \"example_classification\": {\"topics\": [\"earn\"]},\n",
        "    },\n",
        "]\n",
        "\n",
        "tagging_prompt_one_shot = ChatPromptTemplate.from_template(\n",
        "     \"\"\"\n",
        "  You are an expert news classifier. Your task is to read the following passage and classify it into exactly one of the following topics:\n",
        "\n",
        "  - money-fx\n",
        "  - ship\n",
        "  - interest\n",
        "  - acq\n",
        "  - earn\n",
        "\n",
        "  You **must** choose exactly one topic from the list above. If the passage does not perfectly match any topic, choose the closest relevant topic based on its overall context.\n",
        "\n",
        "  **Output Format:**\n",
        "  Provide your answer in JSON format matching the 'Classification' class.\n",
        "\n",
        "  Here are some examples to guide you:\n",
        "\n",
        "  {examples_text}\n",
        "\n",
        "  Example:\n",
        "  {{\n",
        "      \"topics\": [\"EARN\"]\n",
        "  }}\n",
        "\n",
        "  Passage:\n",
        "  {input}\n",
        "\"\"\"\n",
        ")"
      ],
      "metadata": {
        "id": "njGogFg25dzY"
      },
      "execution_count": 35,
      "outputs": []
    },
    {
      "cell_type": "code",
      "source": [
        "input_passage= df[df['LEWISSPLIT'] == 'TEST']['Topics'].reset_index(drop=True)[0]\n",
        "\n",
        "formatted_prompt = tagging_prompt_one_shot.format(input=input_passage, examples_text = examples)\n",
        "\n",
        "response = llm.invoke(formatted_prompt)\n",
        "\n",
        "print(response.topics)"
      ],
      "metadata": {
        "colab": {
          "base_uri": "https://localhost:8080/"
        },
        "id": "2iFHC5Jt5lEx",
        "outputId": "5c96fc90-bcdf-4b8d-c485-1a1f143775a5"
      },
      "execution_count": 38,
      "outputs": [
        {
          "output_type": "stream",
          "name": "stdout",
          "text": [
            "['ship']\n"
          ]
        }
      ]
    },
    {
      "cell_type": "code",
      "source": [
        "df[df['LEWISSPLIT'] == 'TEST']['Topics'].reset_index(drop=True)[0]"
      ],
      "metadata": {
        "colab": {
          "base_uri": "https://localhost:8080/",
          "height": 36
        },
        "id": "Fwi7yn1r5xrw",
        "outputId": "d10fed9b-3ba6-45ba-8f5b-0e31368b17a4"
      },
      "execution_count": 39,
      "outputs": [
        {
          "output_type": "execute_result",
          "data": {
            "text/plain": [
              "'ship'"
            ],
            "application/vnd.google.colaboratory.intrinsic+json": {
              "type": "string"
            }
          },
          "metadata": {},
          "execution_count": 39
        }
      ]
    }
  ]
}