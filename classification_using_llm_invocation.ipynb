{
 "cells": [
  {
   "cell_type": "markdown",
   "metadata": {
    "id": "P1vT4PetVP8U"
   },
   "source": [
    "# **Reuters-21578 News Classification Using Generative AI**"
   ]
  },
  {
   "cell_type": "markdown",
   "metadata": {
    "id": "H7kAjt22V5v6"
   },
   "source": [
    "## **Key Features of the Approach**\n",
    "- **Zero-shot Classification**:\n",
    "  - Classify articles directly using a pre-trained language model by crafting intuitive prompts without prior examples.\n",
    "- **One-shot Classification**:\n",
    "  - Guide the model with one labeled example to refine its contextual understanding for classification.\n",
    "- **Generative AI**:\n",
    "  - Use advanced language models capable of understanding and generating human-like text for predictive tasks.\n"
   ]
  },
  {
   "cell_type": "markdown",
   "metadata": {
    "id": "JSrajmOiHLqD"
   },
   "source": [
    "# Table of Contents\n",
    "1. [Load Dataset](#load-dataset)\n",
    "2. [Install Required Libraries](#install-required-libraries)\n",
    "3. [Set up OpenAI API Key](#set-up-openai-api-key)\n",
    "4. [Import Libraries](#import-libraries)\n",
    "5. [Initialize LLM](#initialize-llm)\n",
    "6. [Zero-shot Classification](#zero-shot-classification)\n",
    "7. [One-shot Classification](#one-shot-classification)"
   ]
  },
  {
   "cell_type": "markdown",
   "metadata": {
    "id": "pkrfLnfkFi8T"
   },
   "source": [
    "# Load Dataset"
   ]
  },
  {
   "cell_type": "code",
   "execution_count": 1,
   "metadata": {
    "colab": {
     "base_uri": "https://localhost:8080/"
    },
    "id": "jWuFLIV8wcbx",
    "outputId": "f22b3fa3-77c7-4b11-d433-dfdd2c914244"
   },
   "outputs": [
    {
     "name": "stdout",
     "output_type": "stream",
     "text": [
      "Mounted at /content/drive\n"
     ]
    }
   ],
   "source": [
    "from google.colab import drive\n",
    "drive.mount('/content/drive')"
   ]
  },
  {
   "cell_type": "code",
   "execution_count": 2,
   "metadata": {
    "id": "3biK6ObwwfgH"
   },
   "outputs": [],
   "source": [
    "file_path = '/content/drive/MyDrive/processed_dataset.csv'"
   ]
  },
  {
   "cell_type": "code",
   "execution_count": 3,
   "metadata": {
    "colab": {
     "base_uri": "https://localhost:8080/",
     "height": 597
    },
    "id": "sJm2lbt9wiZH",
    "outputId": "c88bdc54-1c18-40d8-d0d0-5bd0f01270fe"
   },
   "outputs": [
    {
     "data": {
      "application/vnd.google.colaboratory.intrinsic+json": {
       "summary": "{\n  \"name\": \"df\",\n  \"rows\": 6486,\n  \"fields\": [\n    {\n      \"column\": \"Topics\",\n      \"properties\": {\n        \"dtype\": \"category\",\n        \"num_unique_values\": 5,\n        \"samples\": [\n          \"money-fx\",\n          \"ship\",\n          \"acq\"\n        ],\n        \"semantic_type\": \"\",\n        \"description\": \"\"\n      }\n    },\n    {\n      \"column\": \"Places\",\n      \"properties\": {\n        \"dtype\": \"category\",\n        \"num_unique_values\": 203,\n        \"samples\": [\n          \"usa, south-africa\",\n          \"uk\",\n          \"uk, ireland\"\n        ],\n        \"semantic_type\": \"\",\n        \"description\": \"\"\n      }\n    },\n    {\n      \"column\": \"People\",\n      \"properties\": {\n        \"dtype\": \"category\",\n        \"num_unique_values\": 49,\n        \"samples\": [\n          \"reagan\",\n          \"reagan, james-baker, takeshita\",\n          \"james-baker, stoltenberg, poehl\"\n        ],\n        \"semantic_type\": \"\",\n        \"description\": \"\"\n      }\n    },\n    {\n      \"column\": \"Orgs\",\n      \"properties\": {\n        \"dtype\": \"category\",\n        \"num_unique_values\": 7,\n        \"samples\": [\n          \"imf\",\n          \"gcc\",\n          \"imco\"\n        ],\n        \"semantic_type\": \"\",\n        \"description\": \"\"\n      }\n    },\n    {\n      \"column\": \"Exchanges\",\n      \"properties\": {\n        \"dtype\": \"category\",\n        \"num_unique_values\": 11,\n        \"samples\": [\n          \"cme\",\n          \"nasdaq\",\n          \"tose\"\n        ],\n        \"semantic_type\": \"\",\n        \"description\": \"\"\n      }\n    },\n    {\n      \"column\": \"Companies\",\n      \"properties\": {\n        \"dtype\": \"number\",\n        \"std\": null,\n        \"min\": null,\n        \"max\": null,\n        \"num_unique_values\": 0,\n        \"samples\": [],\n        \"semantic_type\": \"\",\n        \"description\": \"\"\n      }\n    },\n    {\n      \"column\": \"LEWISSPLIT\",\n      \"properties\": {\n        \"dtype\": \"category\",\n        \"num_unique_values\": 3,\n        \"samples\": [],\n        \"semantic_type\": \"\",\n        \"description\": \"\"\n      }\n    },\n    {\n      \"column\": \"CGISPLIT\",\n      \"properties\": {\n        \"dtype\": \"category\",\n        \"num_unique_values\": 2,\n        \"samples\": [],\n        \"semantic_type\": \"\",\n        \"description\": \"\"\n      }\n    },\n    {\n      \"column\": \"OLDID\",\n      \"properties\": {\n        \"dtype\": \"number\",\n        \"std\": 6260,\n        \"min\": 1,\n        \"max\": 22158,\n        \"num_unique_values\": 6486,\n        \"samples\": [],\n        \"semantic_type\": \"\",\n        \"description\": \"\"\n      }\n    },\n    {\n      \"column\": \"NEWID\",\n      \"properties\": {\n        \"dtype\": \"number\",\n        \"std\": 6217,\n        \"min\": 9,\n        \"max\": 21574,\n        \"num_unique_values\": 6486,\n        \"samples\": [],\n        \"semantic_type\": \"\",\n        \"description\": \"\"\n      }\n    },\n    {\n      \"column\": \"Title\",\n      \"properties\": {\n        \"dtype\": \"string\",\n        \"num_unique_values\": 6348,\n        \"samples\": [],\n        \"semantic_type\": \"\",\n        \"description\": \"\"\n      }\n    },\n    {\n      \"column\": \"Dateline\",\n      \"properties\": {\n        \"dtype\": \"string\",\n        \"num_unique_values\": 4331,\n        \"samples\": [],\n        \"semantic_type\": \"\",\n        \"description\": \"\"\n      }\n    },\n    {\n      \"column\": \"Body\",\n      \"properties\": {\n        \"dtype\": \"string\",\n        \"num_unique_values\": 6454,\n        \"samples\": [],\n        \"semantic_type\": \"\",\n        \"description\": \"\"\n      }\n    }\n  ]\n}",
       "type": "dataframe",
       "variable_name": "df"
      },
      "text/html": [
       "\n",
       "  <div id=\"df-fee1af96-94cc-4ebf-b03e-a941d0a40701\" class=\"colab-df-container\">\n",
       "    <div>\n",
       "<style scoped>\n",
       "    .dataframe tbody tr th:only-of-type {\n",
       "        vertical-align: middle;\n",
       "    }\n",
       "\n",
       "    .dataframe tbody tr th {\n",
       "        vertical-align: top;\n",
       "    }\n",
       "\n",
       "    .dataframe thead th {\n",
       "        text-align: right;\n",
       "    }\n",
       "</style>\n",
       "<table border=\"1\" class=\"dataframe\">\n",
       "  <thead>\n",
       "    <tr style=\"text-align: right;\">\n",
       "      <th></th>\n",
       "      <th>Topics</th>\n",
       "      <th>Places</th>\n",
       "      <th>People</th>\n",
       "      <th>Orgs</th>\n",
       "      <th>Exchanges</th>\n",
       "      <th>Companies</th>\n",
       "      <th>LEWISSPLIT</th>\n",
       "      <th>CGISPLIT</th>\n",
       "      <th>OLDID</th>\n",
       "      <th>NEWID</th>\n",
       "      <th>Title</th>\n",
       "      <th>Dateline</th>\n",
       "      <th>Body</th>\n",
       "    </tr>\n",
       "  </thead>\n",
       "  <tbody>\n",
       "    <tr>\n",
       "      <th>0</th>\n",
       "      <td>earn</td>\n",
       "      <td>usa</td>\n",
       "      <td>NaN</td>\n",
       "      <td>NaN</td>\n",
       "      <td>NaN</td>\n",
       "      <td>NaN</td>\n",
       "      <td>TEST</td>\n",
       "      <td>TRAINING-SET</td>\n",
       "      <td>5041</td>\n",
       "      <td>16003</td>\n",
       "      <td>BEVERLY ENTERPRISES &lt;BEV&gt; SETS REGULAR DIVIDEND</td>\n",
       "      <td>PASEDENA, Calif., April 9 - \\n</td>\n",
       "      <td>Qtly div five cts vs five cts prior\\n    Pay J...</td>\n",
       "    </tr>\n",
       "    <tr>\n",
       "      <th>1</th>\n",
       "      <td>money-fx</td>\n",
       "      <td>usa</td>\n",
       "      <td>james-baker</td>\n",
       "      <td>imf</td>\n",
       "      <td>NaN</td>\n",
       "      <td>NaN</td>\n",
       "      <td>TEST</td>\n",
       "      <td>TRAINING-SET</td>\n",
       "      <td>5044</td>\n",
       "      <td>16006</td>\n",
       "      <td>TREASURY'S BAKER SAYS SYSTEM NEEDS STABILITY</td>\n",
       "      <td>WASHINGTON, April 9 -</td>\n",
       "      <td>Treasury Secretary James Baker said\\nthe float...</td>\n",
       "    </tr>\n",
       "    <tr>\n",
       "      <th>2</th>\n",
       "      <td>earn</td>\n",
       "      <td>usa</td>\n",
       "      <td>NaN</td>\n",
       "      <td>NaN</td>\n",
       "      <td>NaN</td>\n",
       "      <td>NaN</td>\n",
       "      <td>TEST</td>\n",
       "      <td>TRAINING-SET</td>\n",
       "      <td>5052</td>\n",
       "      <td>16013</td>\n",
       "      <td>TRUSTCORP INC &lt;TTCO&gt; 1ST QTR NET</td>\n",
       "      <td>TOLEDO, Ohio, April 9 - \\n</td>\n",
       "      <td>Shr 67 cts vs 62 cts\\n    Net 9,160,000 vs 7,7...</td>\n",
       "    </tr>\n",
       "    <tr>\n",
       "      <th>3</th>\n",
       "      <td>earn</td>\n",
       "      <td>usa</td>\n",
       "      <td>NaN</td>\n",
       "      <td>NaN</td>\n",
       "      <td>NaN</td>\n",
       "      <td>NaN</td>\n",
       "      <td>TEST</td>\n",
       "      <td>TRAINING-SET</td>\n",
       "      <td>5054</td>\n",
       "      <td>16015</td>\n",
       "      <td>NAPA VALLEY BANCORP &lt;NVBC&gt; 1ST QTR NET</td>\n",
       "      <td>NAPA, Calif, April 9 -\\n</td>\n",
       "      <td>Shr 20 cts vs 25 cts\\n    Net 487,000 vs 435,0...</td>\n",
       "    </tr>\n",
       "    <tr>\n",
       "      <th>4</th>\n",
       "      <td>earn</td>\n",
       "      <td>usa</td>\n",
       "      <td>NaN</td>\n",
       "      <td>NaN</td>\n",
       "      <td>NaN</td>\n",
       "      <td>NaN</td>\n",
       "      <td>TEST</td>\n",
       "      <td>TRAINING-SET</td>\n",
       "      <td>5055</td>\n",
       "      <td>16016</td>\n",
       "      <td>INTERNATIONAL POWER MACHINES &lt;PWR&gt; 4TH QTR LOSS</td>\n",
       "      <td>MESQUITE, Texas, April 9 - \\n</td>\n",
       "      <td>Shr loss 21 cts vs loss 28 cts\\n    Net loss 8...</td>\n",
       "    </tr>\n",
       "    <tr>\n",
       "      <th>...</th>\n",
       "      <td>...</td>\n",
       "      <td>...</td>\n",
       "      <td>...</td>\n",
       "      <td>...</td>\n",
       "      <td>...</td>\n",
       "      <td>...</td>\n",
       "      <td>...</td>\n",
       "      <td>...</td>\n",
       "      <td>...</td>\n",
       "      <td>...</td>\n",
       "      <td>...</td>\n",
       "      <td>...</td>\n",
       "      <td>...</td>\n",
       "    </tr>\n",
       "    <tr>\n",
       "      <th>6481</th>\n",
       "      <td>interest</td>\n",
       "      <td>west-germany</td>\n",
       "      <td>NaN</td>\n",
       "      <td>NaN</td>\n",
       "      <td>NaN</td>\n",
       "      <td>NaN</td>\n",
       "      <td>TRAIN</td>\n",
       "      <td>TRAINING-SET</td>\n",
       "      <td>18389</td>\n",
       "      <td>1971</td>\n",
       "      <td>BUNDESBANK LEAVES CREDIT POLICIES UNCHANGED</td>\n",
       "      <td>FRANKFURT, March 5 -</td>\n",
       "      <td>The Bundesbank left credit policies\\nunchanged...</td>\n",
       "    </tr>\n",
       "    <tr>\n",
       "      <th>6482</th>\n",
       "      <td>money-fx</td>\n",
       "      <td>egypt</td>\n",
       "      <td>NaN</td>\n",
       "      <td>NaN</td>\n",
       "      <td>NaN</td>\n",
       "      <td>NaN</td>\n",
       "      <td>TRAIN</td>\n",
       "      <td>TRAINING-SET</td>\n",
       "      <td>18401</td>\n",
       "      <td>1983</td>\n",
       "      <td>EGYPTIAN CENTRAL BANK DOLLAR RATE UNCHANGED</td>\n",
       "      <td>CAIRO, March 4 -</td>\n",
       "      <td>Egypt's Central Bank today set the dollar\\nrat...</td>\n",
       "    </tr>\n",
       "    <tr>\n",
       "      <th>6483</th>\n",
       "      <td>acq</td>\n",
       "      <td>usa</td>\n",
       "      <td>NaN</td>\n",
       "      <td>NaN</td>\n",
       "      <td>NaN</td>\n",
       "      <td>NaN</td>\n",
       "      <td>TRAIN</td>\n",
       "      <td>TRAINING-SET</td>\n",
       "      <td>18412</td>\n",
       "      <td>1994</td>\n",
       "      <td>BAKER &lt;BKO&gt; SUES TO FORCE HUGHES &lt;HT&gt; MERGER</td>\n",
       "      <td>HOUSTON, March 5 -</td>\n",
       "      <td>Baker International corp said it has\\nfiled su...</td>\n",
       "    </tr>\n",
       "    <tr>\n",
       "      <th>6484</th>\n",
       "      <td>interest</td>\n",
       "      <td>spain</td>\n",
       "      <td>NaN</td>\n",
       "      <td>ec</td>\n",
       "      <td>NaN</td>\n",
       "      <td>NaN</td>\n",
       "      <td>TRAIN</td>\n",
       "      <td>TRAINING-SET</td>\n",
       "      <td>18413</td>\n",
       "      <td>1995</td>\n",
       "      <td>SPAIN DEREGULATES BANK DEPOSIT INTEREST RATES</td>\n",
       "      <td>MADRID, March 5 -</td>\n",
       "      <td>Spain's Finance Ministry deregulated bank\\ndep...</td>\n",
       "    </tr>\n",
       "    <tr>\n",
       "      <th>6485</th>\n",
       "      <td>acq</td>\n",
       "      <td>usa</td>\n",
       "      <td>icahn</td>\n",
       "      <td>NaN</td>\n",
       "      <td>NaN</td>\n",
       "      <td>NaN</td>\n",
       "      <td>TRAIN</td>\n",
       "      <td>TRAINING-SET</td>\n",
       "      <td>18414</td>\n",
       "      <td>1996</td>\n",
       "      <td>USAIR &lt;U&gt; REJECTS TWA &lt;TWA&gt; TAKEOVER BID</td>\n",
       "      <td>WASHINGTON, March 5 -</td>\n",
       "      <td>USAir Group Inc said its board has\\nrejected T...</td>\n",
       "    </tr>\n",
       "  </tbody>\n",
       "</table>\n",
       "<p>6486 rows × 13 columns</p>\n",
       "</div>\n",
       "    <div class=\"colab-df-buttons\">\n",
       "\n",
       "  <div class=\"colab-df-container\">\n",
       "    <button class=\"colab-df-convert\" onclick=\"convertToInteractive('df-fee1af96-94cc-4ebf-b03e-a941d0a40701')\"\n",
       "            title=\"Convert this dataframe to an interactive table.\"\n",
       "            style=\"display:none;\">\n",
       "\n",
       "  <svg xmlns=\"http://www.w3.org/2000/svg\" height=\"24px\" viewBox=\"0 -960 960 960\">\n",
       "    <path d=\"M120-120v-720h720v720H120Zm60-500h600v-160H180v160Zm220 220h160v-160H400v160Zm0 220h160v-160H400v160ZM180-400h160v-160H180v160Zm440 0h160v-160H620v160ZM180-180h160v-160H180v160Zm440 0h160v-160H620v160Z\"/>\n",
       "  </svg>\n",
       "    </button>\n",
       "\n",
       "  <style>\n",
       "    .colab-df-container {\n",
       "      display:flex;\n",
       "      gap: 12px;\n",
       "    }\n",
       "\n",
       "    .colab-df-convert {\n",
       "      background-color: #E8F0FE;\n",
       "      border: none;\n",
       "      border-radius: 50%;\n",
       "      cursor: pointer;\n",
       "      display: none;\n",
       "      fill: #1967D2;\n",
       "      height: 32px;\n",
       "      padding: 0 0 0 0;\n",
       "      width: 32px;\n",
       "    }\n",
       "\n",
       "    .colab-df-convert:hover {\n",
       "      background-color: #E2EBFA;\n",
       "      box-shadow: 0px 1px 2px rgba(60, 64, 67, 0.3), 0px 1px 3px 1px rgba(60, 64, 67, 0.15);\n",
       "      fill: #174EA6;\n",
       "    }\n",
       "\n",
       "    .colab-df-buttons div {\n",
       "      margin-bottom: 4px;\n",
       "    }\n",
       "\n",
       "    [theme=dark] .colab-df-convert {\n",
       "      background-color: #3B4455;\n",
       "      fill: #D2E3FC;\n",
       "    }\n",
       "\n",
       "    [theme=dark] .colab-df-convert:hover {\n",
       "      background-color: #434B5C;\n",
       "      box-shadow: 0px 1px 3px 1px rgba(0, 0, 0, 0.15);\n",
       "      filter: drop-shadow(0px 1px 2px rgba(0, 0, 0, 0.3));\n",
       "      fill: #FFFFFF;\n",
       "    }\n",
       "  </style>\n",
       "\n",
       "    <script>\n",
       "      const buttonEl =\n",
       "        document.querySelector('#df-fee1af96-94cc-4ebf-b03e-a941d0a40701 button.colab-df-convert');\n",
       "      buttonEl.style.display =\n",
       "        google.colab.kernel.accessAllowed ? 'block' : 'none';\n",
       "\n",
       "      async function convertToInteractive(key) {\n",
       "        const element = document.querySelector('#df-fee1af96-94cc-4ebf-b03e-a941d0a40701');\n",
       "        const dataTable =\n",
       "          await google.colab.kernel.invokeFunction('convertToInteractive',\n",
       "                                                    [key], {});\n",
       "        if (!dataTable) return;\n",
       "\n",
       "        const docLinkHtml = 'Like what you see? Visit the ' +\n",
       "          '<a target=\"_blank\" href=https://colab.research.google.com/notebooks/data_table.ipynb>data table notebook</a>'\n",
       "          + ' to learn more about interactive tables.';\n",
       "        element.innerHTML = '';\n",
       "        dataTable['output_type'] = 'display_data';\n",
       "        await google.colab.output.renderOutput(dataTable, element);\n",
       "        const docLink = document.createElement('div');\n",
       "        docLink.innerHTML = docLinkHtml;\n",
       "        element.appendChild(docLink);\n",
       "      }\n",
       "    </script>\n",
       "  </div>\n",
       "\n",
       "\n",
       "<div id=\"df-bf98acb7-beda-4968-9583-112c12dba916\">\n",
       "  <button class=\"colab-df-quickchart\" onclick=\"quickchart('df-bf98acb7-beda-4968-9583-112c12dba916')\"\n",
       "            title=\"Suggest charts\"\n",
       "            style=\"display:none;\">\n",
       "\n",
       "<svg xmlns=\"http://www.w3.org/2000/svg\" height=\"24px\"viewBox=\"0 0 24 24\"\n",
       "     width=\"24px\">\n",
       "    <g>\n",
       "        <path d=\"M19 3H5c-1.1 0-2 .9-2 2v14c0 1.1.9 2 2 2h14c1.1 0 2-.9 2-2V5c0-1.1-.9-2-2-2zM9 17H7v-7h2v7zm4 0h-2V7h2v10zm4 0h-2v-4h2v4z\"/>\n",
       "    </g>\n",
       "</svg>\n",
       "  </button>\n",
       "\n",
       "<style>\n",
       "  .colab-df-quickchart {\n",
       "      --bg-color: #E8F0FE;\n",
       "      --fill-color: #1967D2;\n",
       "      --hover-bg-color: #E2EBFA;\n",
       "      --hover-fill-color: #174EA6;\n",
       "      --disabled-fill-color: #AAA;\n",
       "      --disabled-bg-color: #DDD;\n",
       "  }\n",
       "\n",
       "  [theme=dark] .colab-df-quickchart {\n",
       "      --bg-color: #3B4455;\n",
       "      --fill-color: #D2E3FC;\n",
       "      --hover-bg-color: #434B5C;\n",
       "      --hover-fill-color: #FFFFFF;\n",
       "      --disabled-bg-color: #3B4455;\n",
       "      --disabled-fill-color: #666;\n",
       "  }\n",
       "\n",
       "  .colab-df-quickchart {\n",
       "    background-color: var(--bg-color);\n",
       "    border: none;\n",
       "    border-radius: 50%;\n",
       "    cursor: pointer;\n",
       "    display: none;\n",
       "    fill: var(--fill-color);\n",
       "    height: 32px;\n",
       "    padding: 0;\n",
       "    width: 32px;\n",
       "  }\n",
       "\n",
       "  .colab-df-quickchart:hover {\n",
       "    background-color: var(--hover-bg-color);\n",
       "    box-shadow: 0 1px 2px rgba(60, 64, 67, 0.3), 0 1px 3px 1px rgba(60, 64, 67, 0.15);\n",
       "    fill: var(--button-hover-fill-color);\n",
       "  }\n",
       "\n",
       "  .colab-df-quickchart-complete:disabled,\n",
       "  .colab-df-quickchart-complete:disabled:hover {\n",
       "    background-color: var(--disabled-bg-color);\n",
       "    fill: var(--disabled-fill-color);\n",
       "    box-shadow: none;\n",
       "  }\n",
       "\n",
       "  .colab-df-spinner {\n",
       "    border: 2px solid var(--fill-color);\n",
       "    border-color: transparent;\n",
       "    border-bottom-color: var(--fill-color);\n",
       "    animation:\n",
       "      spin 1s steps(1) infinite;\n",
       "  }\n",
       "\n",
       "  @keyframes spin {\n",
       "    0% {\n",
       "      border-color: transparent;\n",
       "      border-bottom-color: var(--fill-color);\n",
       "      border-left-color: var(--fill-color);\n",
       "    }\n",
       "    20% {\n",
       "      border-color: transparent;\n",
       "      border-left-color: var(--fill-color);\n",
       "      border-top-color: var(--fill-color);\n",
       "    }\n",
       "    30% {\n",
       "      border-color: transparent;\n",
       "      border-left-color: var(--fill-color);\n",
       "      border-top-color: var(--fill-color);\n",
       "      border-right-color: var(--fill-color);\n",
       "    }\n",
       "    40% {\n",
       "      border-color: transparent;\n",
       "      border-right-color: var(--fill-color);\n",
       "      border-top-color: var(--fill-color);\n",
       "    }\n",
       "    60% {\n",
       "      border-color: transparent;\n",
       "      border-right-color: var(--fill-color);\n",
       "    }\n",
       "    80% {\n",
       "      border-color: transparent;\n",
       "      border-right-color: var(--fill-color);\n",
       "      border-bottom-color: var(--fill-color);\n",
       "    }\n",
       "    90% {\n",
       "      border-color: transparent;\n",
       "      border-bottom-color: var(--fill-color);\n",
       "    }\n",
       "  }\n",
       "</style>\n",
       "\n",
       "  <script>\n",
       "    async function quickchart(key) {\n",
       "      const quickchartButtonEl =\n",
       "        document.querySelector('#' + key + ' button');\n",
       "      quickchartButtonEl.disabled = true;  // To prevent multiple clicks.\n",
       "      quickchartButtonEl.classList.add('colab-df-spinner');\n",
       "      try {\n",
       "        const charts = await google.colab.kernel.invokeFunction(\n",
       "            'suggestCharts', [key], {});\n",
       "      } catch (error) {\n",
       "        console.error('Error during call to suggestCharts:', error);\n",
       "      }\n",
       "      quickchartButtonEl.classList.remove('colab-df-spinner');\n",
       "      quickchartButtonEl.classList.add('colab-df-quickchart-complete');\n",
       "    }\n",
       "    (() => {\n",
       "      let quickchartButtonEl =\n",
       "        document.querySelector('#df-bf98acb7-beda-4968-9583-112c12dba916 button');\n",
       "      quickchartButtonEl.style.display =\n",
       "        google.colab.kernel.accessAllowed ? 'block' : 'none';\n",
       "    })();\n",
       "  </script>\n",
       "</div>\n",
       "\n",
       "  <div id=\"id_0a56e708-f17e-4a6a-b26e-7de47a88c374\">\n",
       "    <style>\n",
       "      .colab-df-generate {\n",
       "        background-color: #E8F0FE;\n",
       "        border: none;\n",
       "        border-radius: 50%;\n",
       "        cursor: pointer;\n",
       "        display: none;\n",
       "        fill: #1967D2;\n",
       "        height: 32px;\n",
       "        padding: 0 0 0 0;\n",
       "        width: 32px;\n",
       "      }\n",
       "\n",
       "      .colab-df-generate:hover {\n",
       "        background-color: #E2EBFA;\n",
       "        box-shadow: 0px 1px 2px rgba(60, 64, 67, 0.3), 0px 1px 3px 1px rgba(60, 64, 67, 0.15);\n",
       "        fill: #174EA6;\n",
       "      }\n",
       "\n",
       "      [theme=dark] .colab-df-generate {\n",
       "        background-color: #3B4455;\n",
       "        fill: #D2E3FC;\n",
       "      }\n",
       "\n",
       "      [theme=dark] .colab-df-generate:hover {\n",
       "        background-color: #434B5C;\n",
       "        box-shadow: 0px 1px 3px 1px rgba(0, 0, 0, 0.15);\n",
       "        filter: drop-shadow(0px 1px 2px rgba(0, 0, 0, 0.3));\n",
       "        fill: #FFFFFF;\n",
       "      }\n",
       "    </style>\n",
       "    <button class=\"colab-df-generate\" onclick=\"generateWithVariable('df')\"\n",
       "            title=\"Generate code using this dataframe.\"\n",
       "            style=\"display:none;\">\n",
       "\n",
       "  <svg xmlns=\"http://www.w3.org/2000/svg\" height=\"24px\"viewBox=\"0 0 24 24\"\n",
       "       width=\"24px\">\n",
       "    <path d=\"M7,19H8.4L18.45,9,17,7.55,7,17.6ZM5,21V16.75L18.45,3.32a2,2,0,0,1,2.83,0l1.4,1.43a1.91,1.91,0,0,1,.58,1.4,1.91,1.91,0,0,1-.58,1.4L9.25,21ZM18.45,9,17,7.55Zm-12,3A5.31,5.31,0,0,0,4.9,8.1,5.31,5.31,0,0,0,1,6.5,5.31,5.31,0,0,0,4.9,4.9,5.31,5.31,0,0,0,6.5,1,5.31,5.31,0,0,0,8.1,4.9,5.31,5.31,0,0,0,12,6.5,5.46,5.46,0,0,0,6.5,12Z\"/>\n",
       "  </svg>\n",
       "    </button>\n",
       "    <script>\n",
       "      (() => {\n",
       "      const buttonEl =\n",
       "        document.querySelector('#id_0a56e708-f17e-4a6a-b26e-7de47a88c374 button.colab-df-generate');\n",
       "      buttonEl.style.display =\n",
       "        google.colab.kernel.accessAllowed ? 'block' : 'none';\n",
       "\n",
       "      buttonEl.onclick = () => {\n",
       "        google.colab.notebook.generateWithVariable('df');\n",
       "      }\n",
       "      })();\n",
       "    </script>\n",
       "  </div>\n",
       "\n",
       "    </div>\n",
       "  </div>\n"
      ],
      "text/plain": [
       "        Topics        Places       People Orgs Exchanges  Companies  \\\n",
       "0         earn           usa          NaN  NaN       NaN        NaN   \n",
       "1     money-fx           usa  james-baker  imf       NaN        NaN   \n",
       "2         earn           usa          NaN  NaN       NaN        NaN   \n",
       "3         earn           usa          NaN  NaN       NaN        NaN   \n",
       "4         earn           usa          NaN  NaN       NaN        NaN   \n",
       "...        ...           ...          ...  ...       ...        ...   \n",
       "6481  interest  west-germany          NaN  NaN       NaN        NaN   \n",
       "6482  money-fx         egypt          NaN  NaN       NaN        NaN   \n",
       "6483       acq           usa          NaN  NaN       NaN        NaN   \n",
       "6484  interest         spain          NaN   ec       NaN        NaN   \n",
       "6485       acq           usa        icahn  NaN       NaN        NaN   \n",
       "\n",
       "     LEWISSPLIT      CGISPLIT  OLDID  NEWID  \\\n",
       "0          TEST  TRAINING-SET   5041  16003   \n",
       "1          TEST  TRAINING-SET   5044  16006   \n",
       "2          TEST  TRAINING-SET   5052  16013   \n",
       "3          TEST  TRAINING-SET   5054  16015   \n",
       "4          TEST  TRAINING-SET   5055  16016   \n",
       "...         ...           ...    ...    ...   \n",
       "6481      TRAIN  TRAINING-SET  18389   1971   \n",
       "6482      TRAIN  TRAINING-SET  18401   1983   \n",
       "6483      TRAIN  TRAINING-SET  18412   1994   \n",
       "6484      TRAIN  TRAINING-SET  18413   1995   \n",
       "6485      TRAIN  TRAINING-SET  18414   1996   \n",
       "\n",
       "                                                Title  \\\n",
       "0     BEVERLY ENTERPRISES <BEV> SETS REGULAR DIVIDEND   \n",
       "1        TREASURY'S BAKER SAYS SYSTEM NEEDS STABILITY   \n",
       "2                   TRUSTCORP INC <TTCO> 1ST QTR NET    \n",
       "3              NAPA VALLEY BANCORP <NVBC> 1ST QTR NET   \n",
       "4     INTERNATIONAL POWER MACHINES <PWR> 4TH QTR LOSS   \n",
       "...                                               ...   \n",
       "6481      BUNDESBANK LEAVES CREDIT POLICIES UNCHANGED   \n",
       "6482      EGYPTIAN CENTRAL BANK DOLLAR RATE UNCHANGED   \n",
       "6483     BAKER <BKO> SUES TO FORCE HUGHES <HT> MERGER   \n",
       "6484    SPAIN DEREGULATES BANK DEPOSIT INTEREST RATES   \n",
       "6485         USAIR <U> REJECTS TWA <TWA> TAKEOVER BID   \n",
       "\n",
       "                                    Dateline  \\\n",
       "0         PASEDENA, Calif., April 9 - \\n       \n",
       "1                     WASHINGTON, April 9 -    \n",
       "2             TOLEDO, Ohio, April 9 - \\n       \n",
       "3               NAPA, Calif, April 9 -\\n       \n",
       "4          MESQUITE, Texas, April 9 - \\n       \n",
       "...                                      ...   \n",
       "6481                   FRANKFURT, March 5 -    \n",
       "6482                       CAIRO, March 4 -    \n",
       "6483                     HOUSTON, March 5 -    \n",
       "6484                      MADRID, March 5 -    \n",
       "6485                  WASHINGTON, March 5 -    \n",
       "\n",
       "                                                   Body  \n",
       "0     Qtly div five cts vs five cts prior\\n    Pay J...  \n",
       "1     Treasury Secretary James Baker said\\nthe float...  \n",
       "2     Shr 67 cts vs 62 cts\\n    Net 9,160,000 vs 7,7...  \n",
       "3     Shr 20 cts vs 25 cts\\n    Net 487,000 vs 435,0...  \n",
       "4     Shr loss 21 cts vs loss 28 cts\\n    Net loss 8...  \n",
       "...                                                 ...  \n",
       "6481  The Bundesbank left credit policies\\nunchanged...  \n",
       "6482  Egypt's Central Bank today set the dollar\\nrat...  \n",
       "6483  Baker International corp said it has\\nfiled su...  \n",
       "6484  Spain's Finance Ministry deregulated bank\\ndep...  \n",
       "6485  USAir Group Inc said its board has\\nrejected T...  \n",
       "\n",
       "[6486 rows x 13 columns]"
      ]
     },
     "execution_count": 3,
     "metadata": {},
     "output_type": "execute_result"
    }
   ],
   "source": [
    "import pandas as pd\n",
    "df = pd.read_csv(file_path)\n",
    "df"
   ]
  },
  {
   "cell_type": "markdown",
   "metadata": {
    "id": "6Af6NkxlFo1B"
   },
   "source": [
    "# Install Required Libraries"
   ]
  },
  {
   "cell_type": "code",
   "execution_count": 4,
   "metadata": {
    "colab": {
     "base_uri": "https://localhost:8080/"
    },
    "id": "ngEQnupRrsbY",
    "outputId": "ce6b6c8e-59fb-44d8-de0e-fa528cfdb5f2"
   },
   "outputs": [
    {
     "name": "stdout",
     "output_type": "stream",
     "text": [
      "\u001b[?25l   \u001b[90m━━━━━━━━━━━━━━━━━━━━━━━━━━━━━━━━━━━━━━━━\u001b[0m \u001b[32m0.0/50.7 kB\u001b[0m \u001b[31m?\u001b[0m eta \u001b[36m-:--:--\u001b[0m\r\u001b[2K   \u001b[90m━━━━━━━━━━━━━━━━━━━━━━━━━━━━━━━━━━━━━━━━\u001b[0m \u001b[32m50.7/50.7 kB\u001b[0m \u001b[31m1.9 MB/s\u001b[0m eta \u001b[36m0:00:00\u001b[0m\n",
      "\u001b[?25h\u001b[?25l   \u001b[90m━━━━━━━━━━━━━━━━━━━━━━━━━━━━━━━━━━━━━━━━\u001b[0m \u001b[32m0.0/409.5 kB\u001b[0m \u001b[31m?\u001b[0m eta \u001b[36m-:--:--\u001b[0m\r\u001b[2K   \u001b[91m━━━━━━━━━━━━━━━━━━━━━━━━━━━━━━━━━━━━━━━\u001b[0m\u001b[90m╺\u001b[0m \u001b[32m399.4/409.5 kB\u001b[0m \u001b[31m16.2 MB/s\u001b[0m eta \u001b[36m0:00:01\u001b[0m\r\u001b[2K   \u001b[90m━━━━━━━━━━━━━━━━━━━━━━━━━━━━━━━━━━━━━━━━\u001b[0m \u001b[32m409.5/409.5 kB\u001b[0m \u001b[31m9.2 MB/s\u001b[0m eta \u001b[36m0:00:00\u001b[0m\n",
      "\u001b[?25h\u001b[?25l   \u001b[90m━━━━━━━━━━━━━━━━━━━━━━━━━━━━━━━━━━━━━━━━\u001b[0m \u001b[32m0.0/1.2 MB\u001b[0m \u001b[31m?\u001b[0m eta \u001b[36m-:--:--\u001b[0m\r\u001b[2K   \u001b[91m━━━━━━━━━━━━━━━━━━━━━━━━━━━━━━━━━━━━━━━\u001b[0m\u001b[91m╸\u001b[0m \u001b[32m1.2/1.2 MB\u001b[0m \u001b[31m59.3 MB/s\u001b[0m eta \u001b[36m0:00:01\u001b[0m\r\u001b[2K   \u001b[90m━━━━━━━━━━━━━━━━━━━━━━━━━━━━━━━━━━━━━━━━\u001b[0m \u001b[32m1.2/1.2 MB\u001b[0m \u001b[31m27.2 MB/s\u001b[0m eta \u001b[36m0:00:00\u001b[0m\n",
      "\u001b[?25h"
     ]
    }
   ],
   "source": [
    "! pip -qqq install langchain-openai"
   ]
  },
  {
   "cell_type": "markdown",
   "metadata": {
    "id": "jZvk2jlFFvoA"
   },
   "source": [
    "# Set up OpenAI API Key"
   ]
  },
  {
   "cell_type": "code",
   "execution_count": 5,
   "metadata": {
    "id": "cybOR0agOH6h"
   },
   "outputs": [],
   "source": [
    "from google.colab import userdata\n",
    "import os\n",
    "os.environ[\"OPENAI_API_KEY\"] = userdata.get('OPENAI_API_KEY')"
   ]
  },
  {
   "cell_type": "markdown",
   "metadata": {
    "id": "yT7xkF1mGAUx"
   },
   "source": [
    "# import libraries"
   ]
  },
  {
   "cell_type": "code",
   "execution_count": 55,
   "metadata": {
    "id": "7_bkh9SAF_sx"
   },
   "outputs": [],
   "source": [
    "from langchain_core.prompts import ChatPromptTemplate\n",
    "from langchain_openai import ChatOpenAI\n",
    "from pydantic import BaseModel, Field\n",
    "from typing import List\n",
    "from langchain_openai import ChatOpenAI\n"
   ]
  },
  {
   "cell_type": "markdown",
   "metadata": {
    "id": "CLhp0hZ9F_Vg"
   },
   "source": []
  },
  {
   "cell_type": "markdown",
   "metadata": {
    "id": "nqWixezoF4EZ"
   },
   "source": [
    "# Initialize LLM"
   ]
  },
  {
   "cell_type": "code",
   "execution_count": 56,
   "metadata": {
    "id": "rdmKo2-_rnM3"
   },
   "outputs": [],
   "source": [
    "class Classification(BaseModel):\n",
    "    topics: List[str] = Field(\n",
    "        description=(\n",
    "            \"The topic that the article belongs to. You must choose exactly one. \"\n",
    "            \"Possible values are: 'money-fx', 'ship', 'interest', 'acq', 'earn'.\"\n",
    "        )\n",
    "    )\n",
    "\n",
    "# Initialize the LLM with structured output\n",
    "llm = ChatOpenAI(temperature=0, model=\"gpt-4\").with_structured_output(Classification)"
   ]
  },
  {
   "cell_type": "markdown",
   "metadata": {
    "id": "0pjllQX4GRK5"
   },
   "source": [
    "# Prompt Engineering for Zero-shot Classification"
   ]
  },
  {
   "cell_type": "code",
   "execution_count": 8,
   "metadata": {
    "id": "tcESINtmuRAW"
   },
   "outputs": [],
   "source": [
    "tagging_prompt = ChatPromptTemplate.from_template(\n",
    "     \"\"\"\n",
    "You are an expert news classifier. Your task is to read the following passage and classify it into exactly one of the following topics:\n",
    "\n",
    "- money-fx\n",
    "- ship\n",
    "- interest\n",
    "- acq\n",
    "- earn\n",
    "\n",
    "You **must** choose exactly one topic from the list above. If the passage does not perfectly match any topic, choose the closest relevant topic based on its overall context.\n",
    "\n",
    "**Output Format:**\n",
    "Provide your answer in JSON format matching the 'Classification' class.\n",
    "\n",
    "Example:\n",
    "{{\n",
    "    \"topics\": [\"earn\"]\n",
    "}}\n",
    "\n",
    "Passage:\n",
    "{input}\n",
    "\"\"\"\n",
    ")"
   ]
  },
  {
   "cell_type": "code",
   "execution_count": null,
   "metadata": {
    "colab": {
     "base_uri": "https://localhost:8080/"
    },
    "id": "GXxMt7qHu8pO",
    "outputId": "036f7300-76f0-4579-8bbd-9586932c4d5f"
   },
   "outputs": [
    {
     "name": "stdout",
     "output_type": "stream",
     "text": [
      "['ACQ']\n"
     ]
    }
   ],
   "source": [
    "# Your input passage\n",
    "input_passage = \"\"\"Viacom International Inc said &lt;National\n",
    "Amusements Inc> has again raised the value of its offer for\n",
    "Viacom's publicly held stock.\n",
    "    The company said the special committee of its board plans\n",
    "to meet later today to consider this offer and the one\n",
    "submitted March one by &lt;MCV Holdings Inc>.\n",
    "    A spokeswoman was unable to say if the committee met as\n",
    "planned yesterday.\n",
    "    Viacom said National Amusements' Arsenal Holdings Inc\n",
    "subsidiary has raised the amount of cash it is offering for\n",
    "each Viacom share by 75 cts to 42.75 dlrs while the value of\n",
    "the fraction of a share of exchangeable Arsenal Holdings\n",
    "preferred to be included was raised 25 cts to 7.75 dlrs.\n",
    "    National Amusements already owns 19.6 pct of Viacom's stock.\"\"\"\n",
    "\n",
    "# Generate the classification using the .invoke() method\n",
    "response = llm.invoke(tagging_prompt.format(input=input_passage))\n",
    "\n",
    "# Access the topics\n",
    "print(response.topics)\n"
   ]
  },
  {
   "cell_type": "code",
   "execution_count": 16,
   "metadata": {
    "colab": {
     "base_uri": "https://localhost:8080/",
     "height": 54
    },
    "id": "gHqaqXem0_Mf",
    "outputId": "bbe19c39-b4d5-4a74-9287-df21bf878f7e"
   },
   "outputs": [
    {
     "data": {
      "application/vnd.google.colaboratory.intrinsic+json": {
       "type": "string"
      },
      "text/plain": [
       "\"Irving Bank Corp said it bought the\\nfactoring division of Associates Commercial Corp, a unit of\\nGulf and Western Co Inc's Associates Corp of North America.\\n    The terms of the previously announced deal were not\\ndisclosed.\\n    It said the assets were transferred to Irving Commercial\\nCorp.\\n\\n Reuter\\n\\x03\""
      ]
     },
     "execution_count": 16,
     "metadata": {},
     "output_type": "execute_result"
    }
   ],
   "source": [
    "df[(df['LEWISSPLIT'] == 'TRAIN') & (df['Topics'] == 'acq')]['Body'][583]\n"
   ]
  },
  {
   "cell_type": "markdown",
   "metadata": {
    "id": "m7eE5qq5GXuZ"
   },
   "source": [
    "#  Prompt Engineering for one-shot Classification"
   ]
  },
  {
   "cell_type": "code",
   "execution_count": 46,
   "metadata": {
    "id": "4NMRijReBLmw"
   },
   "outputs": [],
   "source": [
    "examples = [\n",
    "    {\n",
    "        \"example_passage\": \"Zambia will reintroduce a modified\\nforeign exchange auction at the end of this month as part of a\\nnew two-tier exchange rate, central bank governor Leonard\\nChivuno said.\\n    Chivuno told a press conference at the end of three weeks\\nof negotiations with the International Monetary Fund (IMF) that\\nthere would be a fixed exchange rate for official transactions\\nand a fluctuating rate, decided by the auction, for other types\\nof business.\\n    The Bank of Zambia previously held weekly auctions to\\ndistribute foreign exchange to the private sector and determine\\nthe kwacha's exchange rate, but these were suspended at the end\\nof January.\\n    President Kenneth Kaunda said at the time that he was\\nsuspending the auction system in view of the rapid devaluation\\nand violent fluctuations of the exchange rate which had\\nresulted.\\n    Business and banking sources said another reason for\\nsuspending the auction was that the central bank was low on\\nforeign exchange and was 10 weeks behind in paying successful\\nbidders.    The kwacha stood at 2.2 per dollar when the auction system\\nwas first introduced in October 1985, but it slid to around 15\\nper dollar by the time it was suspended 16 months later.\\n    Since then, Zambia has operated a fixed exchange rate of\\nabout nine kwacha per dollar.\\n REUTER\\n\\x03\",\n",
    "        \"example_classification\": {\"topics\": [\"money-fx\"]},\n",
    "    },\n",
    "    {\n",
    "        \"example_passage\": \"Some 10 Indian ships have been held up\\nat Calcutta port after four days of industrial action by local\\nseamen, a spokesman for the shipowners' association INSA said.\\n    The dispute has prevented local crewmen signing on and off,\\nbut has not affected foreign ships with international crews\\ndocking at Calcutta, which exports tea and jute and imports\\nmachinery, crude oil and petroleum products, the spokesman\\nsaid.\\n    Foreign ships may also suffer if dock workers join the\\naction, he said. The Shipping Corporation of India (SCI) has\\nasked its ships to avoid the port until the dispute is over,\\nNational Union of Seafarers in India president Leo Barnes said.\\n Reuter\\n\\x03\",\n",
    "        \"example_classification\": {\"topics\": [\"ship\"]},\n",
    "    },\n",
    "    {\n",
    "        \"example_passage\": \"British bank base lending rates are\\nlikely to fall by as much as one full point to 9-1/2 pct this\\nweek following the sharp three billion stg cut in the U.K.\\nCentral government borrowing target to four billion stg set in\\ntoday's 1987 budget, bank analysts said.\\n    The analysts described Chancellor of the Exchequer Nigel\\nLawson's budget as cautious, a quality which currency and money\\nmarkets had already started to reward.\\n    Sterling surged on foreign exchange markets and money\\nmarket interest rates moved sharply lower as news of the budget\\nmeasures came through, the analysts said.\\n    Lloyds merchant bank chief economist Roger Bootle said he\\nexpected base rates to be cut by one full point tomorrow.\\n    \\\"This is very much a safety-first budget in order to get\\ninterest rates down,\\\" he said.\\n    Bootle said the money markets had almost entirely\\ndiscounted such a one point cut, with the key three month\\ninterbank rate down to 9-11/16 pct from 9-13/16 last night, and\\nit \",\n",
    "        \"example_classification\": {\"topics\": [\"interest\"]},\n",
    "    },\n",
    "    {\n",
    "        \"example_passage\": \"Irving Bank Corp said it bought the\\nfactoring division of Associates Commercial Corp, a unit of\\nGulf and Western Co Inc's Associates Corp of North America.\\n    The terms of the previously announced deal were not\\ndisclosed.\\n    It said the assets were transferred to Irving Commercial\\nCorp.\\n\\n Reuter\\n\\x03\",\n",
    "        \"example_classification\": {\"topics\": [\"acq\"]},\n",
    "    },\n",
    "    {\n",
    "        \"example_passage\": \"Shr five cts vs one ct\\n    Net 196,986 vs 37,966\\n    Revs 15.5 mln vs 8,900,000\\n    Nine mths\\n    Shr 52 cts vs 22 cts\\n    Net two mln vs 874,000\\n    Revs 53.7 mln vs 28.6 mln\\n Reuter\\n\\x03\",\n",
    "        \"example_classification\": {\"topics\": [\"earn\"]},\n",
    "    },\n",
    "]\n",
    "\n",
    "# Corrected prompt template with escaped curly braces\n",
    "tagging_prompt_one_shot = ChatPromptTemplate.from_template(\n",
    "     \"\"\"\n",
    "  You are an expert news classifier. Your task is to read the following passage and classify it into exactly one of the following topics:\n",
    "\n",
    "  - money-fx\n",
    "  - ship\n",
    "  - interest\n",
    "  - acq\n",
    "  - earn\n",
    "\n",
    "  You **must** choose exactly one topic from the list above. If the passage does not perfectly match any topic, choose the closest relevant topic based on its overall context.\n",
    "\n",
    "  **Output Format:**\n",
    "  Provide your answer in JSON format matching the 'Classification' class.\n",
    "\n",
    "  Here are some examples to guide you:\n",
    "\n",
    "  {examples_text}\n",
    "\n",
    "  Example:\n",
    "  {{\n",
    "      \"topics\": [\"EARN\"]\n",
    "  }}\n",
    "\n",
    "  Passage:\n",
    "  {input}\n",
    "\"\"\"\n",
    ")"
   ]
  },
  {
   "cell_type": "code",
   "execution_count": 47,
   "metadata": {
    "colab": {
     "base_uri": "https://localhost:8080/"
    },
    "id": "xadD9Scw2I1Q",
    "outputId": "9bb32124-bb63-47a0-b17e-d86603078950"
   },
   "outputs": [
    {
     "name": "stdout",
     "output_type": "stream",
     "text": [
      "['earn']\n"
     ]
    }
   ],
   "source": [
    "# Sample input passage\n",
    "input_passage = df_test = df[df['LEWISSPLIT'] == 'TEST']['Topics'][0]\n",
    "\n",
    "# Format the prompt with the input passage\n",
    "formatted_prompt = tagging_prompt_one_shot.format(input=input_passage, examples_text = examples)\n",
    "\n",
    "# Invoke the LLM\n",
    "response = llm.invoke(formatted_prompt)\n",
    "\n",
    "# Output the topics\n",
    "print(response.topics)"
   ]
  }
 ],
 "metadata": {
  "colab": {
   "provenance": []
  },
  "kernelspec": {
   "display_name": "Python 3",
   "name": "python3"
  },
  "language_info": {
   "name": "python"
  }
 },
 "nbformat": 4,
 "nbformat_minor": 0
}
