{
  "nbformat": 4,
  "nbformat_minor": 0,
  "metadata": {
    "colab": {
      "provenance": []
    },
    "kernelspec": {
      "name": "python3",
      "display_name": "Python 3"
    },
    "language_info": {
      "name": "python"
    }
  },
  "cells": [
    {
      "cell_type": "code",
      "source": [
        "!pip install httpx==0.27.2"
      ],
      "metadata": {
        "colab": {
          "base_uri": "https://localhost:8080/"
        },
        "id": "zu9jSgPh62tr",
        "outputId": "85207664-2f0c-432f-b9dc-4484db337e4f"
      },
      "execution_count": 1,
      "outputs": [
        {
          "output_type": "stream",
          "name": "stdout",
          "text": [
            "Collecting httpx==0.27.2\n",
            "  Downloading httpx-0.27.2-py3-none-any.whl.metadata (7.1 kB)\n",
            "Requirement already satisfied: anyio in /usr/local/lib/python3.10/dist-packages (from httpx==0.27.2) (3.7.1)\n",
            "Requirement already satisfied: certifi in /usr/local/lib/python3.10/dist-packages (from httpx==0.27.2) (2024.8.30)\n",
            "Requirement already satisfied: httpcore==1.* in /usr/local/lib/python3.10/dist-packages (from httpx==0.27.2) (1.0.7)\n",
            "Requirement already satisfied: idna in /usr/local/lib/python3.10/dist-packages (from httpx==0.27.2) (3.10)\n",
            "Requirement already satisfied: sniffio in /usr/local/lib/python3.10/dist-packages (from httpx==0.27.2) (1.3.1)\n",
            "Requirement already satisfied: h11<0.15,>=0.13 in /usr/local/lib/python3.10/dist-packages (from httpcore==1.*->httpx==0.27.2) (0.14.0)\n",
            "Requirement already satisfied: exceptiongroup in /usr/local/lib/python3.10/dist-packages (from anyio->httpx==0.27.2) (1.2.2)\n",
            "Downloading httpx-0.27.2-py3-none-any.whl (76 kB)\n",
            "\u001b[?25l   \u001b[90m━━━━━━━━━━━━━━━━━━━━━━━━━━━━━━━━━━━━━━━━\u001b[0m \u001b[32m0.0/76.4 kB\u001b[0m \u001b[31m?\u001b[0m eta \u001b[36m-:--:--\u001b[0m\r\u001b[2K   \u001b[91m━━━━━━━━━━━━━━━━━━━━━━━━━━━━━━━━━━━━━\u001b[0m\u001b[91m╸\u001b[0m\u001b[90m━━\u001b[0m \u001b[32m71.7/76.4 kB\u001b[0m \u001b[31m4.2 MB/s\u001b[0m eta \u001b[36m0:00:01\u001b[0m\r\u001b[2K   \u001b[91m━━━━━━━━━━━━━━━━━━━━━━━━━━━━━━━━━━━━━\u001b[0m\u001b[91m╸\u001b[0m\u001b[90m━━\u001b[0m \u001b[32m71.7/76.4 kB\u001b[0m \u001b[31m4.2 MB/s\u001b[0m eta \u001b[36m0:00:01\u001b[0m\r\u001b[2K   \u001b[90m━━━━━━━━━━━━━━━━━━━━━━━━━━━━━━━━━━━━━━━━\u001b[0m \u001b[32m76.4/76.4 kB\u001b[0m \u001b[31m877.8 kB/s\u001b[0m eta \u001b[36m0:00:00\u001b[0m\n",
            "\u001b[?25hInstalling collected packages: httpx\n",
            "  Attempting uninstall: httpx\n",
            "    Found existing installation: httpx 0.28.0\n",
            "    Uninstalling httpx-0.28.0:\n",
            "      Successfully uninstalled httpx-0.28.0\n",
            "Successfully installed httpx-0.27.2\n"
          ]
        }
      ]
    },
    {
      "cell_type": "markdown",
      "source": [
        "# **Importing Libraries**\n",
        "We begin by importing the necessary libraries:\n",
        "\n",
        "**langchain:** Used to manage prompt templates, chains, and memory for conversational contexts.\n",
        "\n",
        "**OpenAI:** Provides the language model for response generation."
      ],
      "metadata": {
        "id": "z8a1YIE-AWqn"
      }
    },
    {
      "cell_type": "code",
      "execution_count": 1,
      "metadata": {
        "colab": {
          "base_uri": "https://localhost:8080/"
        },
        "id": "FNPoSTQvyrjZ",
        "outputId": "3da98c4e-802d-46c3-9f54-3678358d1189"
      },
      "outputs": [
        {
          "output_type": "stream",
          "name": "stdout",
          "text": [
            "Writing requirements.txt\n"
          ]
        }
      ],
      "source": [
        "%%writefile requirements.txt\n",
        "langchain\n",
        "langchain-community\n",
        "langchain-openai\n",
        "pypdf\n",
        "langchain-chroma\n",
        "gradio"
      ]
    },
    {
      "cell_type": "code",
      "source": [
        "!pip install -q -r  requirements.txt"
      ],
      "metadata": {
        "colab": {
          "base_uri": "https://localhost:8080/"
        },
        "id": "rIOO-hUFzh1n",
        "outputId": "9127efd1-4a58-4742-da1b-c204e7fdfd2d"
      },
      "execution_count": 2,
      "outputs": [
        {
          "output_type": "stream",
          "name": "stdout",
          "text": [
            "\u001b[?25l     \u001b[90m━━━━━━━━━━━━━━━━━━━━━━━━━━━━━━━━━━━━━━━━\u001b[0m \u001b[32m0.0/67.3 kB\u001b[0m \u001b[31m?\u001b[0m eta \u001b[36m-:--:--\u001b[0m\r\u001b[2K     \u001b[90m━━━━━━━━━━━━━━━━━━━━━━━━━━━━━━━━━━━━━━━━\u001b[0m \u001b[32m67.3/67.3 kB\u001b[0m \u001b[31m3.4 MB/s\u001b[0m eta \u001b[36m0:00:00\u001b[0m\n",
            "\u001b[?25h  Installing build dependencies ... \u001b[?25l\u001b[?25hdone\n",
            "  Getting requirements to build wheel ... \u001b[?25l\u001b[?25hdone\n",
            "  Preparing metadata (pyproject.toml) ... \u001b[?25l\u001b[?25hdone\n",
            "\u001b[2K   \u001b[90m━━━━━━━━━━━━━━━━━━━━━━━━━━━━━━━━━━━━━━━━\u001b[0m \u001b[32m2.4/2.4 MB\u001b[0m \u001b[31m33.2 MB/s\u001b[0m eta \u001b[36m0:00:00\u001b[0m\n",
            "\u001b[2K   \u001b[90m━━━━━━━━━━━━━━━━━━━━━━━━━━━━━━━━━━━━━━━━\u001b[0m \u001b[32m50.7/50.7 kB\u001b[0m \u001b[31m3.2 MB/s\u001b[0m eta \u001b[36m0:00:00\u001b[0m\n",
            "\u001b[2K   \u001b[90m━━━━━━━━━━━━━━━━━━━━━━━━━━━━━━━━━━━━━━━━\u001b[0m \u001b[32m298.0/298.0 kB\u001b[0m \u001b[31m20.9 MB/s\u001b[0m eta \u001b[36m0:00:00\u001b[0m\n",
            "\u001b[2K   \u001b[90m━━━━━━━━━━━━━━━━━━━━━━━━━━━━━━━━━━━━━━━━\u001b[0m \u001b[32m57.2/57.2 MB\u001b[0m \u001b[31m12.5 MB/s\u001b[0m eta \u001b[36m0:00:00\u001b[0m\n",
            "\u001b[2K   \u001b[90m━━━━━━━━━━━━━━━━━━━━━━━━━━━━━━━━━━━━━━━━\u001b[0m \u001b[32m320.2/320.2 kB\u001b[0m \u001b[31m15.7 MB/s\u001b[0m eta \u001b[36m0:00:00\u001b[0m\n",
            "\u001b[2K   \u001b[90m━━━━━━━━━━━━━━━━━━━━━━━━━━━━━━━━━━━━━━━━\u001b[0m \u001b[32m628.3/628.3 kB\u001b[0m \u001b[31m28.7 MB/s\u001b[0m eta \u001b[36m0:00:00\u001b[0m\n",
            "\u001b[2K   \u001b[90m━━━━━━━━━━━━━━━━━━━━━━━━━━━━━━━━━━━━━━━━\u001b[0m \u001b[32m2.4/2.4 MB\u001b[0m \u001b[31m56.7 MB/s\u001b[0m eta \u001b[36m0:00:00\u001b[0m\n",
            "\u001b[2K   \u001b[90m━━━━━━━━━━━━━━━━━━━━━━━━━━━━━━━━━━━━━━━━\u001b[0m \u001b[32m94.8/94.8 kB\u001b[0m \u001b[31m7.0 MB/s\u001b[0m eta \u001b[36m0:00:00\u001b[0m\n",
            "\u001b[2K   \u001b[90m━━━━━━━━━━━━━━━━━━━━━━━━━━━━━━━━━━━━━━━━\u001b[0m \u001b[32m11.2/11.2 MB\u001b[0m \u001b[31m77.3 MB/s\u001b[0m eta \u001b[36m0:00:00\u001b[0m\n",
            "\u001b[2K   \u001b[90m━━━━━━━━━━━━━━━━━━━━━━━━━━━━━━━━━━━━━━━━\u001b[0m \u001b[32m73.2/73.2 kB\u001b[0m \u001b[31m5.2 MB/s\u001b[0m eta \u001b[36m0:00:00\u001b[0m\n",
            "\u001b[2K   \u001b[90m━━━━━━━━━━━━━━━━━━━━━━━━━━━━━━━━━━━━━━━━\u001b[0m \u001b[32m1.2/1.2 MB\u001b[0m \u001b[31m40.1 MB/s\u001b[0m eta \u001b[36m0:00:00\u001b[0m\n",
            "\u001b[2K   \u001b[90m━━━━━━━━━━━━━━━━━━━━━━━━━━━━━━━━━━━━━━━━\u001b[0m \u001b[32m63.8/63.8 kB\u001b[0m \u001b[31m4.1 MB/s\u001b[0m eta \u001b[36m0:00:00\u001b[0m\n",
            "\u001b[2K   \u001b[90m━━━━━━━━━━━━━━━━━━━━━━━━━━━━━━━━━━━━━━━━\u001b[0m \u001b[32m278.6/278.6 kB\u001b[0m \u001b[31m16.7 MB/s\u001b[0m eta \u001b[36m0:00:00\u001b[0m\n",
            "\u001b[2K   \u001b[90m━━━━━━━━━━━━━━━━━━━━━━━━━━━━━━━━━━━━━━━━\u001b[0m \u001b[32m1.9/1.9 MB\u001b[0m \u001b[31m55.6 MB/s\u001b[0m eta \u001b[36m0:00:00\u001b[0m\n",
            "\u001b[2K   \u001b[90m━━━━━━━━━━━━━━━━━━━━━━━━━━━━━━━━━━━━━━━━\u001b[0m \u001b[32m49.5/49.5 kB\u001b[0m \u001b[31m3.3 MB/s\u001b[0m eta \u001b[36m0:00:00\u001b[0m\n",
            "\u001b[2K   \u001b[90m━━━━━━━━━━━━━━━━━━━━━━━━━━━━━━━━━━━━━━━━\u001b[0m \u001b[32m93.2/93.2 kB\u001b[0m \u001b[31m5.0 MB/s\u001b[0m eta \u001b[36m0:00:00\u001b[0m\n",
            "\u001b[2K   \u001b[90m━━━━━━━━━━━━━━━━━━━━━━━━━━━━━━━━━━━━━━━━\u001b[0m \u001b[32m13.3/13.3 MB\u001b[0m \u001b[31m57.5 MB/s\u001b[0m eta \u001b[36m0:00:00\u001b[0m\n",
            "\u001b[2K   \u001b[90m━━━━━━━━━━━━━━━━━━━━━━━━━━━━━━━━━━━━━━━━\u001b[0m \u001b[32m55.8/55.8 kB\u001b[0m \u001b[31m3.6 MB/s\u001b[0m eta \u001b[36m0:00:00\u001b[0m\n",
            "\u001b[2K   \u001b[90m━━━━━━━━━━━━━━━━━━━━━━━━━━━━━━━━━━━━━━━━\u001b[0m \u001b[32m54.8/54.8 kB\u001b[0m \u001b[31m3.8 MB/s\u001b[0m eta \u001b[36m0:00:00\u001b[0m\n",
            "\u001b[2K   \u001b[90m━━━━━━━━━━━━━━━━━━━━━━━━━━━━━━━━━━━━━━━━\u001b[0m \u001b[32m168.2/168.2 kB\u001b[0m \u001b[31m10.8 MB/s\u001b[0m eta \u001b[36m0:00:00\u001b[0m\n",
            "\u001b[2K   \u001b[90m━━━━━━━━━━━━━━━━━━━━━━━━━━━━━━━━━━━━━━━━\u001b[0m \u001b[32m442.1/442.1 kB\u001b[0m \u001b[31m25.2 MB/s\u001b[0m eta \u001b[36m0:00:00\u001b[0m\n",
            "\u001b[2K   \u001b[90m━━━━━━━━━━━━━━━━━━━━━━━━━━━━━━━━━━━━━━━━\u001b[0m \u001b[32m319.7/319.7 kB\u001b[0m \u001b[31m20.4 MB/s\u001b[0m eta \u001b[36m0:00:00\u001b[0m\n",
            "\u001b[2K   \u001b[90m━━━━━━━━━━━━━━━━━━━━━━━━━━━━━━━━━━━━━━━━\u001b[0m \u001b[32m3.8/3.8 MB\u001b[0m \u001b[31m87.9 MB/s\u001b[0m eta \u001b[36m0:00:00\u001b[0m\n",
            "\u001b[2K   \u001b[90m━━━━━━━━━━━━━━━━━━━━━━━━━━━━━━━━━━━━━━━━\u001b[0m \u001b[32m442.6/442.6 kB\u001b[0m \u001b[31m25.7 MB/s\u001b[0m eta \u001b[36m0:00:00\u001b[0m\n",
            "\u001b[2K   \u001b[90m━━━━━━━━━━━━━━━━━━━━━━━━━━━━━━━━━━━━━━━━\u001b[0m \u001b[32m46.0/46.0 kB\u001b[0m \u001b[31m2.5 MB/s\u001b[0m eta \u001b[36m0:00:00\u001b[0m\n",
            "\u001b[2K   \u001b[90m━━━━━━━━━━━━━━━━━━━━━━━━━━━━━━━━━━━━━━━━\u001b[0m \u001b[32m86.8/86.8 kB\u001b[0m \u001b[31m5.4 MB/s\u001b[0m eta \u001b[36m0:00:00\u001b[0m\n",
            "\u001b[?25h  Building wheel for pypika (pyproject.toml) ... \u001b[?25l\u001b[?25hdone\n",
            "\u001b[31mERROR: pip's dependency resolver does not currently take into account all the packages that are installed. This behaviour is the source of the following dependency conflicts.\n",
            "tensorflow 2.17.1 requires protobuf!=4.21.0,!=4.21.1,!=4.21.2,!=4.21.3,!=4.21.4,!=4.21.5,<5.0.0dev,>=3.20.3, but you have protobuf 5.29.1 which is incompatible.\n",
            "tensorflow-metadata 1.13.1 requires protobuf<5,>=3.20.3, but you have protobuf 5.29.1 which is incompatible.\u001b[0m\u001b[31m\n",
            "\u001b[0m"
          ]
        }
      ]
    },
    {
      "cell_type": "code",
      "source": [
        "from langchain_openai import OpenAI\n",
        "from langchain_community.document_loaders import PyPDFLoader\n",
        "from langchain.text_splitter import RecursiveCharacterTextSplitter\n",
        "from langchain_openai import OpenAIEmbeddings\n",
        "from langchain_chroma import Chroma\n",
        "from langchain_core.output_parsers import StrOutputParser\n",
        "from langchain_core.runnables import RunnablePassthrough\n",
        "from langchain import hub\n",
        "from google.colab import userdata\n",
        "import os\n",
        "import pandas as pd\n",
        "import numpy as np"
      ],
      "metadata": {
        "id": "MuhVBMhlzuXm"
      },
      "execution_count": 3,
      "outputs": []
    },
    {
      "cell_type": "markdown",
      "source": [
        "# **Setting Up Environment Variables**\n",
        "To interact with the OpenAI API, you need an API key. The code snippet below fetches the API key stored as an environment variable. Ensure the variable OPENAI_API_KEY is set in your environment for the chatbot to function correctly."
      ],
      "metadata": {
        "id": "mm1kr4ngAqMN"
      }
    },
    {
      "cell_type": "code",
      "source": [
        "os.environ[\"OPENAI_API_KEY\"] = userdata.get('OPENAI_API_KEY1')"
      ],
      "metadata": {
        "id": "Ai98zek-z0mW"
      },
      "execution_count": 6,
      "outputs": []
    },
    {
      "cell_type": "markdown",
      "source": [
        "# **Indexing**\n",
        "We start by preparing our documents for retrieval using embeddings and vector storage.\n",
        "\n",
        "## **Load**\n",
        "In this step, we load news data. The data used here is from the reuters-21578 dataset.\n",
        "\n",
        "You can upload this or other documents to provide a robust foundation for the chatbot's responses."
      ],
      "metadata": {
        "id": "bF2tyBA_Ayv1"
      }
    },
    {
      "cell_type": "code",
      "source": [
        "from google.colab import drive\n",
        "drive.mount('/content/drive')"
      ],
      "metadata": {
        "colab": {
          "base_uri": "https://localhost:8080/"
        },
        "id": "ooMRjmU01bS-",
        "outputId": "12393202-991b-44e9-d246-2cba2a112d61"
      },
      "execution_count": 7,
      "outputs": [
        {
          "output_type": "stream",
          "name": "stdout",
          "text": [
            "Mounted at /content/drive\n"
          ]
        }
      ]
    },
    {
      "cell_type": "code",
      "source": [
        "file_path = '/content/drive/MyDrive/topics_classification_dataset.csv'\n",
        "df = pd.read_csv(file_path)\n",
        "df"
      ],
      "metadata": {
        "colab": {
          "base_uri": "https://localhost:8080/",
          "height": 424
        },
        "id": "5DerX4Cq1iO3",
        "outputId": "1b2a3cb6-7f3f-4381-c2fd-4b6500a0f476"
      },
      "execution_count": 8,
      "outputs": [
        {
          "output_type": "execute_result",
          "data": {
            "text/plain": [
              "     LEWISSPLIT                                               Text    Topics\n",
              "0         TRAIN  JAGUAR SEES STRONG GROWTH IN NEW MODEL SALES J...      earn\n",
              "1         TRAIN  NORD RESOURCES CORP <NRD> 4TH QTR NET Shr 19 c...      earn\n",
              "2         TRAIN  FIVE GROUPS APPLY TO BUY FRENCH TELEPHONE GROU...       acq\n",
              "3         TRAIN  BLIZZARD CLOSES BOSPHORUS Blizzard conditions ...      ship\n",
              "4         TRAIN  JAPAN FUND <JPN> SEEKERS CONFIDENT OF FINANCIN...       acq\n",
              "...         ...                                                ...       ...\n",
              "7052      TRAIN  BAKER INTERNATIONAL CORP SUES HUGHES TOOL SEEK...       acq\n",
              "7053      TRAIN  USAIR GROUP REJECTS TRANS WORLD AIRLINES TAKEO...       acq\n",
              "7054      TRAIN  BAKER <BKO> SUES TO FORCE HUGHES <HT> MERGER B...       acq\n",
              "7055      TRAIN  SPAIN DEREGULATES BANK DEPOSIT INTEREST RATES ...  interest\n",
              "7056      TRAIN  USAIR <U> REJECTS TWA <TWA> TAKEOVER BID USAir...       acq\n",
              "\n",
              "[7057 rows x 3 columns]"
            ],
            "text/html": [
              "\n",
              "  <div id=\"df-dbedc665-9e29-4437-bcef-30caae1de1c7\" class=\"colab-df-container\">\n",
              "    <div>\n",
              "<style scoped>\n",
              "    .dataframe tbody tr th:only-of-type {\n",
              "        vertical-align: middle;\n",
              "    }\n",
              "\n",
              "    .dataframe tbody tr th {\n",
              "        vertical-align: top;\n",
              "    }\n",
              "\n",
              "    .dataframe thead th {\n",
              "        text-align: right;\n",
              "    }\n",
              "</style>\n",
              "<table border=\"1\" class=\"dataframe\">\n",
              "  <thead>\n",
              "    <tr style=\"text-align: right;\">\n",
              "      <th></th>\n",
              "      <th>LEWISSPLIT</th>\n",
              "      <th>Text</th>\n",
              "      <th>Topics</th>\n",
              "    </tr>\n",
              "  </thead>\n",
              "  <tbody>\n",
              "    <tr>\n",
              "      <th>0</th>\n",
              "      <td>TRAIN</td>\n",
              "      <td>JAGUAR SEES STRONG GROWTH IN NEW MODEL SALES J...</td>\n",
              "      <td>earn</td>\n",
              "    </tr>\n",
              "    <tr>\n",
              "      <th>1</th>\n",
              "      <td>TRAIN</td>\n",
              "      <td>NORD RESOURCES CORP &lt;NRD&gt; 4TH QTR NET Shr 19 c...</td>\n",
              "      <td>earn</td>\n",
              "    </tr>\n",
              "    <tr>\n",
              "      <th>2</th>\n",
              "      <td>TRAIN</td>\n",
              "      <td>FIVE GROUPS APPLY TO BUY FRENCH TELEPHONE GROU...</td>\n",
              "      <td>acq</td>\n",
              "    </tr>\n",
              "    <tr>\n",
              "      <th>3</th>\n",
              "      <td>TRAIN</td>\n",
              "      <td>BLIZZARD CLOSES BOSPHORUS Blizzard conditions ...</td>\n",
              "      <td>ship</td>\n",
              "    </tr>\n",
              "    <tr>\n",
              "      <th>4</th>\n",
              "      <td>TRAIN</td>\n",
              "      <td>JAPAN FUND &lt;JPN&gt; SEEKERS CONFIDENT OF FINANCIN...</td>\n",
              "      <td>acq</td>\n",
              "    </tr>\n",
              "    <tr>\n",
              "      <th>...</th>\n",
              "      <td>...</td>\n",
              "      <td>...</td>\n",
              "      <td>...</td>\n",
              "    </tr>\n",
              "    <tr>\n",
              "      <th>7052</th>\n",
              "      <td>TRAIN</td>\n",
              "      <td>BAKER INTERNATIONAL CORP SUES HUGHES TOOL SEEK...</td>\n",
              "      <td>acq</td>\n",
              "    </tr>\n",
              "    <tr>\n",
              "      <th>7053</th>\n",
              "      <td>TRAIN</td>\n",
              "      <td>USAIR GROUP REJECTS TRANS WORLD AIRLINES TAKEO...</td>\n",
              "      <td>acq</td>\n",
              "    </tr>\n",
              "    <tr>\n",
              "      <th>7054</th>\n",
              "      <td>TRAIN</td>\n",
              "      <td>BAKER &lt;BKO&gt; SUES TO FORCE HUGHES &lt;HT&gt; MERGER B...</td>\n",
              "      <td>acq</td>\n",
              "    </tr>\n",
              "    <tr>\n",
              "      <th>7055</th>\n",
              "      <td>TRAIN</td>\n",
              "      <td>SPAIN DEREGULATES BANK DEPOSIT INTEREST RATES ...</td>\n",
              "      <td>interest</td>\n",
              "    </tr>\n",
              "    <tr>\n",
              "      <th>7056</th>\n",
              "      <td>TRAIN</td>\n",
              "      <td>USAIR &lt;U&gt; REJECTS TWA &lt;TWA&gt; TAKEOVER BID USAir...</td>\n",
              "      <td>acq</td>\n",
              "    </tr>\n",
              "  </tbody>\n",
              "</table>\n",
              "<p>7057 rows × 3 columns</p>\n",
              "</div>\n",
              "    <div class=\"colab-df-buttons\">\n",
              "\n",
              "  <div class=\"colab-df-container\">\n",
              "    <button class=\"colab-df-convert\" onclick=\"convertToInteractive('df-dbedc665-9e29-4437-bcef-30caae1de1c7')\"\n",
              "            title=\"Convert this dataframe to an interactive table.\"\n",
              "            style=\"display:none;\">\n",
              "\n",
              "  <svg xmlns=\"http://www.w3.org/2000/svg\" height=\"24px\" viewBox=\"0 -960 960 960\">\n",
              "    <path d=\"M120-120v-720h720v720H120Zm60-500h600v-160H180v160Zm220 220h160v-160H400v160Zm0 220h160v-160H400v160ZM180-400h160v-160H180v160Zm440 0h160v-160H620v160ZM180-180h160v-160H180v160Zm440 0h160v-160H620v160Z\"/>\n",
              "  </svg>\n",
              "    </button>\n",
              "\n",
              "  <style>\n",
              "    .colab-df-container {\n",
              "      display:flex;\n",
              "      gap: 12px;\n",
              "    }\n",
              "\n",
              "    .colab-df-convert {\n",
              "      background-color: #E8F0FE;\n",
              "      border: none;\n",
              "      border-radius: 50%;\n",
              "      cursor: pointer;\n",
              "      display: none;\n",
              "      fill: #1967D2;\n",
              "      height: 32px;\n",
              "      padding: 0 0 0 0;\n",
              "      width: 32px;\n",
              "    }\n",
              "\n",
              "    .colab-df-convert:hover {\n",
              "      background-color: #E2EBFA;\n",
              "      box-shadow: 0px 1px 2px rgba(60, 64, 67, 0.3), 0px 1px 3px 1px rgba(60, 64, 67, 0.15);\n",
              "      fill: #174EA6;\n",
              "    }\n",
              "\n",
              "    .colab-df-buttons div {\n",
              "      margin-bottom: 4px;\n",
              "    }\n",
              "\n",
              "    [theme=dark] .colab-df-convert {\n",
              "      background-color: #3B4455;\n",
              "      fill: #D2E3FC;\n",
              "    }\n",
              "\n",
              "    [theme=dark] .colab-df-convert:hover {\n",
              "      background-color: #434B5C;\n",
              "      box-shadow: 0px 1px 3px 1px rgba(0, 0, 0, 0.15);\n",
              "      filter: drop-shadow(0px 1px 2px rgba(0, 0, 0, 0.3));\n",
              "      fill: #FFFFFF;\n",
              "    }\n",
              "  </style>\n",
              "\n",
              "    <script>\n",
              "      const buttonEl =\n",
              "        document.querySelector('#df-dbedc665-9e29-4437-bcef-30caae1de1c7 button.colab-df-convert');\n",
              "      buttonEl.style.display =\n",
              "        google.colab.kernel.accessAllowed ? 'block' : 'none';\n",
              "\n",
              "      async function convertToInteractive(key) {\n",
              "        const element = document.querySelector('#df-dbedc665-9e29-4437-bcef-30caae1de1c7');\n",
              "        const dataTable =\n",
              "          await google.colab.kernel.invokeFunction('convertToInteractive',\n",
              "                                                    [key], {});\n",
              "        if (!dataTable) return;\n",
              "\n",
              "        const docLinkHtml = 'Like what you see? Visit the ' +\n",
              "          '<a target=\"_blank\" href=https://colab.research.google.com/notebooks/data_table.ipynb>data table notebook</a>'\n",
              "          + ' to learn more about interactive tables.';\n",
              "        element.innerHTML = '';\n",
              "        dataTable['output_type'] = 'display_data';\n",
              "        await google.colab.output.renderOutput(dataTable, element);\n",
              "        const docLink = document.createElement('div');\n",
              "        docLink.innerHTML = docLinkHtml;\n",
              "        element.appendChild(docLink);\n",
              "      }\n",
              "    </script>\n",
              "  </div>\n",
              "\n",
              "\n",
              "<div id=\"df-6ff1cbb1-307a-4cf0-8633-37bdb1ba4290\">\n",
              "  <button class=\"colab-df-quickchart\" onclick=\"quickchart('df-6ff1cbb1-307a-4cf0-8633-37bdb1ba4290')\"\n",
              "            title=\"Suggest charts\"\n",
              "            style=\"display:none;\">\n",
              "\n",
              "<svg xmlns=\"http://www.w3.org/2000/svg\" height=\"24px\"viewBox=\"0 0 24 24\"\n",
              "     width=\"24px\">\n",
              "    <g>\n",
              "        <path d=\"M19 3H5c-1.1 0-2 .9-2 2v14c0 1.1.9 2 2 2h14c1.1 0 2-.9 2-2V5c0-1.1-.9-2-2-2zM9 17H7v-7h2v7zm4 0h-2V7h2v10zm4 0h-2v-4h2v4z\"/>\n",
              "    </g>\n",
              "</svg>\n",
              "  </button>\n",
              "\n",
              "<style>\n",
              "  .colab-df-quickchart {\n",
              "      --bg-color: #E8F0FE;\n",
              "      --fill-color: #1967D2;\n",
              "      --hover-bg-color: #E2EBFA;\n",
              "      --hover-fill-color: #174EA6;\n",
              "      --disabled-fill-color: #AAA;\n",
              "      --disabled-bg-color: #DDD;\n",
              "  }\n",
              "\n",
              "  [theme=dark] .colab-df-quickchart {\n",
              "      --bg-color: #3B4455;\n",
              "      --fill-color: #D2E3FC;\n",
              "      --hover-bg-color: #434B5C;\n",
              "      --hover-fill-color: #FFFFFF;\n",
              "      --disabled-bg-color: #3B4455;\n",
              "      --disabled-fill-color: #666;\n",
              "  }\n",
              "\n",
              "  .colab-df-quickchart {\n",
              "    background-color: var(--bg-color);\n",
              "    border: none;\n",
              "    border-radius: 50%;\n",
              "    cursor: pointer;\n",
              "    display: none;\n",
              "    fill: var(--fill-color);\n",
              "    height: 32px;\n",
              "    padding: 0;\n",
              "    width: 32px;\n",
              "  }\n",
              "\n",
              "  .colab-df-quickchart:hover {\n",
              "    background-color: var(--hover-bg-color);\n",
              "    box-shadow: 0 1px 2px rgba(60, 64, 67, 0.3), 0 1px 3px 1px rgba(60, 64, 67, 0.15);\n",
              "    fill: var(--button-hover-fill-color);\n",
              "  }\n",
              "\n",
              "  .colab-df-quickchart-complete:disabled,\n",
              "  .colab-df-quickchart-complete:disabled:hover {\n",
              "    background-color: var(--disabled-bg-color);\n",
              "    fill: var(--disabled-fill-color);\n",
              "    box-shadow: none;\n",
              "  }\n",
              "\n",
              "  .colab-df-spinner {\n",
              "    border: 2px solid var(--fill-color);\n",
              "    border-color: transparent;\n",
              "    border-bottom-color: var(--fill-color);\n",
              "    animation:\n",
              "      spin 1s steps(1) infinite;\n",
              "  }\n",
              "\n",
              "  @keyframes spin {\n",
              "    0% {\n",
              "      border-color: transparent;\n",
              "      border-bottom-color: var(--fill-color);\n",
              "      border-left-color: var(--fill-color);\n",
              "    }\n",
              "    20% {\n",
              "      border-color: transparent;\n",
              "      border-left-color: var(--fill-color);\n",
              "      border-top-color: var(--fill-color);\n",
              "    }\n",
              "    30% {\n",
              "      border-color: transparent;\n",
              "      border-left-color: var(--fill-color);\n",
              "      border-top-color: var(--fill-color);\n",
              "      border-right-color: var(--fill-color);\n",
              "    }\n",
              "    40% {\n",
              "      border-color: transparent;\n",
              "      border-right-color: var(--fill-color);\n",
              "      border-top-color: var(--fill-color);\n",
              "    }\n",
              "    60% {\n",
              "      border-color: transparent;\n",
              "      border-right-color: var(--fill-color);\n",
              "    }\n",
              "    80% {\n",
              "      border-color: transparent;\n",
              "      border-right-color: var(--fill-color);\n",
              "      border-bottom-color: var(--fill-color);\n",
              "    }\n",
              "    90% {\n",
              "      border-color: transparent;\n",
              "      border-bottom-color: var(--fill-color);\n",
              "    }\n",
              "  }\n",
              "</style>\n",
              "\n",
              "  <script>\n",
              "    async function quickchart(key) {\n",
              "      const quickchartButtonEl =\n",
              "        document.querySelector('#' + key + ' button');\n",
              "      quickchartButtonEl.disabled = true;  // To prevent multiple clicks.\n",
              "      quickchartButtonEl.classList.add('colab-df-spinner');\n",
              "      try {\n",
              "        const charts = await google.colab.kernel.invokeFunction(\n",
              "            'suggestCharts', [key], {});\n",
              "      } catch (error) {\n",
              "        console.error('Error during call to suggestCharts:', error);\n",
              "      }\n",
              "      quickchartButtonEl.classList.remove('colab-df-spinner');\n",
              "      quickchartButtonEl.classList.add('colab-df-quickchart-complete');\n",
              "    }\n",
              "    (() => {\n",
              "      let quickchartButtonEl =\n",
              "        document.querySelector('#df-6ff1cbb1-307a-4cf0-8633-37bdb1ba4290 button');\n",
              "      quickchartButtonEl.style.display =\n",
              "        google.colab.kernel.accessAllowed ? 'block' : 'none';\n",
              "    })();\n",
              "  </script>\n",
              "</div>\n",
              "\n",
              "  <div id=\"id_afceb699-2076-46a4-93f4-5f22f57ee4c5\">\n",
              "    <style>\n",
              "      .colab-df-generate {\n",
              "        background-color: #E8F0FE;\n",
              "        border: none;\n",
              "        border-radius: 50%;\n",
              "        cursor: pointer;\n",
              "        display: none;\n",
              "        fill: #1967D2;\n",
              "        height: 32px;\n",
              "        padding: 0 0 0 0;\n",
              "        width: 32px;\n",
              "      }\n",
              "\n",
              "      .colab-df-generate:hover {\n",
              "        background-color: #E2EBFA;\n",
              "        box-shadow: 0px 1px 2px rgba(60, 64, 67, 0.3), 0px 1px 3px 1px rgba(60, 64, 67, 0.15);\n",
              "        fill: #174EA6;\n",
              "      }\n",
              "\n",
              "      [theme=dark] .colab-df-generate {\n",
              "        background-color: #3B4455;\n",
              "        fill: #D2E3FC;\n",
              "      }\n",
              "\n",
              "      [theme=dark] .colab-df-generate:hover {\n",
              "        background-color: #434B5C;\n",
              "        box-shadow: 0px 1px 3px 1px rgba(0, 0, 0, 0.15);\n",
              "        filter: drop-shadow(0px 1px 2px rgba(0, 0, 0, 0.3));\n",
              "        fill: #FFFFFF;\n",
              "      }\n",
              "    </style>\n",
              "    <button class=\"colab-df-generate\" onclick=\"generateWithVariable('df')\"\n",
              "            title=\"Generate code using this dataframe.\"\n",
              "            style=\"display:none;\">\n",
              "\n",
              "  <svg xmlns=\"http://www.w3.org/2000/svg\" height=\"24px\"viewBox=\"0 0 24 24\"\n",
              "       width=\"24px\">\n",
              "    <path d=\"M7,19H8.4L18.45,9,17,7.55,7,17.6ZM5,21V16.75L18.45,3.32a2,2,0,0,1,2.83,0l1.4,1.43a1.91,1.91,0,0,1,.58,1.4,1.91,1.91,0,0,1-.58,1.4L9.25,21ZM18.45,9,17,7.55Zm-12,3A5.31,5.31,0,0,0,4.9,8.1,5.31,5.31,0,0,0,1,6.5,5.31,5.31,0,0,0,4.9,4.9,5.31,5.31,0,0,0,6.5,1,5.31,5.31,0,0,0,8.1,4.9,5.31,5.31,0,0,0,12,6.5,5.46,5.46,0,0,0,6.5,12Z\"/>\n",
              "  </svg>\n",
              "    </button>\n",
              "    <script>\n",
              "      (() => {\n",
              "      const buttonEl =\n",
              "        document.querySelector('#id_afceb699-2076-46a4-93f4-5f22f57ee4c5 button.colab-df-generate');\n",
              "      buttonEl.style.display =\n",
              "        google.colab.kernel.accessAllowed ? 'block' : 'none';\n",
              "\n",
              "      buttonEl.onclick = () => {\n",
              "        google.colab.notebook.generateWithVariable('df');\n",
              "      }\n",
              "      })();\n",
              "    </script>\n",
              "  </div>\n",
              "\n",
              "    </div>\n",
              "  </div>\n"
            ],
            "application/vnd.google.colaboratory.intrinsic+json": {
              "type": "dataframe",
              "variable_name": "df",
              "summary": "{\n  \"name\": \"df\",\n  \"rows\": 7057,\n  \"fields\": [\n    {\n      \"column\": \"LEWISSPLIT\",\n      \"properties\": {\n        \"dtype\": \"category\",\n        \"num_unique_values\": 3,\n        \"samples\": [\n          \"TRAIN\",\n          \"TEST\",\n          \"NOT-USED\"\n        ],\n        \"semantic_type\": \"\",\n        \"description\": \"\"\n      }\n    },\n    {\n      \"column\": \"Text\",\n      \"properties\": {\n        \"dtype\": \"string\",\n        \"num_unique_values\": 6995,\n        \"samples\": [\n          \"U.K. FIRM UPS ITALY FUND <ITA> STAKE TO 12 PCT Lloyds Investment Managers Ltd, a\\nLondon-based investment firm, said it raised it stake in Italy\\nFund to 760,500 shares, or 12.0 pct of the total outstanding\\ncommon stock, from 466,000 shares, or 7.4 pct.\\n    In a filing with the Securities and Exchange Commission,\\nLloyds said it bought the additional 294,500 Italy Fund common\\nshares since November 7 for a total of 3.3 mln dlrs. Another\\n70,000 shares of the stake are held by an affiliate, it said.\\n    It said its dealings in Italy Fund stock are for investment\\npurposes only and that it has no current plans to increase or\\ndecrease its current stake.\\n Reuter\\n\\u0003\",\n          \"NYNEX INCREASES QTRLY DIV TO 95 CTS FROM 87 CTS end of body\\n \",\n          \"JUSTIN INDUSTRIES INC <JSTN> SETS DIVIDEND Qtly div 10 cts vs 10 cts prior\\n    Pay April 10\\n    Record March 27\\n Reuter\\n\\u0003\"\n        ],\n        \"semantic_type\": \"\",\n        \"description\": \"\"\n      }\n    },\n    {\n      \"column\": \"Topics\",\n      \"properties\": {\n        \"dtype\": \"category\",\n        \"num_unique_values\": 5,\n        \"samples\": [\n          \"acq\",\n          \"interest\",\n          \"ship\"\n        ],\n        \"semantic_type\": \"\",\n        \"description\": \"\"\n      }\n    }\n  ]\n}"
            }
          },
          "metadata": {},
          "execution_count": 8
        }
      ]
    },
    {
      "cell_type": "code",
      "source": [
        "column_name = 'Text'\n",
        "text_data = df[column_name].dropna().tolist()"
      ],
      "metadata": {
        "id": "GNLZOKk62cE2"
      },
      "execution_count": 9,
      "outputs": []
    },
    {
      "cell_type": "markdown",
      "source": [
        "## **Store**\n",
        "We create embeddings of our text chunks and store them in a vector database. This allows us to search for similar content efficiently."
      ],
      "metadata": {
        "id": "MDqTRlfABm-r"
      }
    },
    {
      "cell_type": "code",
      "source": [
        "embeddings = OpenAIEmbeddings(model=\"text-embedding-3-small\")\n",
        "db = Chroma.from_texts(text_data, embeddings)"
      ],
      "metadata": {
        "id": "jTC0u9Nf1rze"
      },
      "execution_count": 10,
      "outputs": []
    },
    {
      "cell_type": "markdown",
      "source": [
        "# **Retrieval and Generation**\n",
        "With the indexed documents, we can now retrieve relevant information and generate responses based on user questions.\n",
        "\n",
        "## **Retrieve**\n",
        "We set up a retriever to find content related to a user's query based on similarity with stored embeddings."
      ],
      "metadata": {
        "id": "ISYUgEEPBuU0"
      }
    },
    {
      "cell_type": "code",
      "source": [
        "retriever = db.as_retriever(search_type= \"similarity\")"
      ],
      "metadata": {
        "id": "N3DRpihM2qK-"
      },
      "execution_count": 11,
      "outputs": []
    },
    {
      "cell_type": "code",
      "source": [
        "question = retriever.invoke(\"Who did Irving Bank Corp acquire a division from?\")"
      ],
      "metadata": {
        "id": "TolO0AW-4FNB"
      },
      "execution_count": 12,
      "outputs": []
    },
    {
      "cell_type": "code",
      "source": [
        "text_data[0]"
      ],
      "metadata": {
        "id": "7XWf5EH54Gdm",
        "colab": {
          "base_uri": "https://localhost:8080/",
          "height": 105
        },
        "outputId": "fc098a18-f5a1-4721-eaa0-adadea4fb6a0"
      },
      "execution_count": 13,
      "outputs": [
        {
          "output_type": "execute_result",
          "data": {
            "text/plain": [
              "'JAGUAR SEES STRONG GROWTH IN NEW MODEL SALES Jaguar Plc <JAGR.L> is about to sell its\\nnew XJ-6 model on the U.S. And Japanese markets and expects a\\nstrong reception based on its success in the U.K., Chairman Sir\\nJohn Egan told a news conference.\\n    Commenting on an 11 pct growth in 1986 group turnover to\\n830.4 mln stg and pre-tax profits at 120.8 mln stg, slightly\\nbelow 1985\\'s 121.3 mln, Egan said Jaguar aimed at an average\\nprofit growth of 15 pct per year. However, the introduction of\\nthe new model had kept this year\\'s pre-tax profit down.\\n    Jaguar starts selling XJ-6 in the U.S. In May and plans to\\nsell 25,000 of its total 47,000 production there in 1987.\\n    U.S. Sales now account for 65 pct of total turnover,\\nfinance director John Edwards said.\\n    A U.S. Price for the car has not been set yet, but Edwards\\nsaid the relatively high car prices in dollars of West German\\ncompetitors offered an \"umbrella\" for Jaguar. He added the XJ-6\\nhad also to compete with U.S. Luxury car producers which would\\nrestrict the car\\'s price.\\n    Jaguar hedges a majority of its dollar receipts on a\\n12-month rolling basis and plans to do so for a larger part of\\nits receipts for longer periods, John Egan said.\\n    In the longer term, capital expenditure will amount to 10\\npct of net sales. Research and development will cost four pct\\nof net sales and training two pct.\\n    Jaguar builds half of its cars and buys components for the\\nother half. The firm is in early stages of considering the\\nbuilding of an own press shop in Britain for about 80 mln stg,\\nbut Egan said this would take at least another three years\\n    On the London Stock Exchange, Jaguar\\'s shares were last\\nquoted at 591p, down from 611p at yesterday\\'s close, after\\nreporting 1986 results which were in line with market\\nexpectations, dealers said.\\n REUTER...\\n\\x03'"
            ],
            "application/vnd.google.colaboratory.intrinsic+json": {
              "type": "string"
            }
          },
          "metadata": {},
          "execution_count": 13
        }
      ]
    },
    {
      "cell_type": "code",
      "source": [
        "for i in range(len(question)):\n",
        "  print(f\"the {i+1}th similar content :\\n \\n {question[i].page_content}\\n \\n\")"
      ],
      "metadata": {
        "id": "ecGUu5QV4VYl",
        "colab": {
          "base_uri": "https://localhost:8080/"
        },
        "outputId": "4029aa1f-370a-49c5-a565-595486f1feeb"
      },
      "execution_count": 14,
      "outputs": [
        {
          "output_type": "stream",
          "name": "stdout",
          "text": [
            "the 1th similar content :\n",
            " \n",
            " IRVING TRUST <V> BUYS GULF/WESTERN <GW> UNIT Irving Bank Corp said it bought the\n",
            "factoring division of Associates Commercial Corp, a unit of\n",
            "Gulf and Western Co Inc's Associates Corp of North America.\n",
            "    The terms of the previously announced deal were not\n",
            "disclosed.\n",
            "    It said the assets were transferred to Irving Commercial\n",
            "Corp.\n",
            "\n",
            " Reuter\n",
            "\u0003\n",
            " \n",
            "\n",
            "the 2th similar content :\n",
            " \n",
            " BANK OF NEW YORK REAFFIRMS TERMS FOR IRVING <V> The Bank of New York Corp <BK> said it\n",
            "reaffirmed the terms of its offer for Irving Bank Corp despite\n",
            "the drop in the Bank of New York's share price to 30-1/8, a\n",
            "Bank of New York spokesman said.\n",
            "    \"The offer still stands, we have not changed our offer,\" a\n",
            "Bank of New York spokesman said.\n",
            "    Irving would not comment on how the drop in the market\n",
            "affects its position on the bid or whether it would buy back\n",
            "any of its own shares.\n",
            "    Earlier this month, Irving rejected the bid as inadequate\n",
            "and said it wanted to retain its independence.\n",
            "    In late September, Bank of New York offered 80 dlrs per\n",
            "share in cash for 47.4 pct of Irving. For the remaining 52.6\n",
            "pct, it offered an exchange of 1.9 shares of its shares for one\n",
            "Irving share.\n",
            "    At that time, the stock purchase portion was worth close to\n",
            "80 dlrs per share, but now that portion is worth 53 dlrs per\n",
            "share for a net price of 68 dlrs, one analyst said.\n",
            "    According to the prospectus offer, shareholders may tender\n",
            "for all cash or all shares on a first come, first serve basis.\n",
            "    Analysts were mixed about how the stock price drop would\n",
            "affect the acquisition.\n",
            "    \"If it gets to the Irving shareholders, they would approve\n",
            "it, but Irving hopes the offer won't go to the shareholders,\"\n",
            "said Mark Alpert, banking analyst with Bear Stearns Cos Inc.\n",
            "    \"And the market is saying the deal won't go through,\"\n",
            "Alpert said.\n",
            "    \"The transaction looks highly unlikely to be completed at\n",
            "present. If Irving wouldn't go with the offer at 80 dlrs a\n",
            "share, then they won't go at a lower price,\" another analyst\n",
            "said.\n",
            "    The analyst also doubted that Bank of New York could afford\n",
            "to retain its original offer.\n",
            "    However, industry sources were more uncertain about\n",
            "prospects for the deal.\n",
            "    \"With Irving's price so low, Bank of New York's offer will\n",
            "look good to Irving shareholders,\" said Michael Flores, a\n",
            "consultant at Bank Earnings International, a consulting firm.\n",
            "    The drop of Irving's share to 44 dlrs per share, which is\n",
            "about a 26 dlr drop from the beginning of last week, increases\n",
            "the chance that Bank of New York will succeed, Flores said.\n",
            "    Analysts said that the drop in bank stock prices is likely\n",
            "to depress the level of mergers and acquisition in the banking\n",
            "industry.\n",
            "    \"Bank takeovers are less likely because banks can't use\n",
            "their own stock to make acquisitions because their share price\n",
            "is too depressed,\" Alpert said.\n",
            "    Since only banks can buy another bank, the only other\n",
            "possible acquirors would be a foreign bank, Alpert said.\n",
            "    \"In the market drop the stock of acquirors got clobbered\n",
            "more than the acquirees,\" another analyst said.\n",
            " Reuter\n",
            "\u0003\n",
            " \n",
            "\n",
            "the 3th similar content :\n",
            " \n",
            " IRVING BANK <V> CITES LOANS IN EARNING DECLINE Irving Bank Corp said the decline in\n",
            "its first quarter earnings to 28.6 mln dlrs from 30.4 mln dlrs\n",
            "in the year-ago period were due to the placement on a\n",
            "non-accrual basis of 215 mln dlrs and 33 mln dlrs of medium and\n",
            "long-term loans to borrowers in Brazil and Equador.\n",
            "    Excluding the impact of the non-accrual loans, Irving said\n",
            "its first quarter net income would have rose 8.4 pct to 32.9\n",
            "mln and per share amounts would have risen eight pct to 1.75\n",
            "dlr. In the first quarter the bank reported earnings per share\n",
            "of 1.51 dlr compared to 1.62 dlr in the same period last year.\n",
            " Reuter\n",
            "\u0003\n",
            " \n",
            "\n",
            "the 4th similar content :\n",
            " \n",
            " IRVING BANK CORP <V> 1ST QTR NET Shr 1.51 dlr vs 1.62 dlr\n",
            "    Net 28.6 mln vs 30.4 mln\n",
            "    Assets 23.8 billion vs 20.9 billion\n",
            "    Deposits 15.5 billion vs 14 billion\n",
            "    Loans 13.8 billion vs 12 billion\n",
            " Reuter\n",
            "\u0003\n",
            " \n",
            "\n"
          ]
        }
      ]
    },
    {
      "cell_type": "markdown",
      "source": [
        "## **Multi Query**\n",
        "we create multiple versions of a question to capture different perspectives or possible interpretations. This improves retrieval diversity."
      ],
      "metadata": {
        "id": "Z6DbIuwdB88w"
      }
    },
    {
      "cell_type": "code",
      "source": [
        "llm = OpenAI(model_name=\"gpt-3.5-turbo-instruct\")"
      ],
      "metadata": {
        "id": "yt6aZOM64bYO"
      },
      "execution_count": 15,
      "outputs": []
    },
    {
      "cell_type": "code",
      "source": [
        "from langchain.prompts import ChatPromptTemplate\n",
        "\n",
        "# Multi Query: Different Perspectives\n",
        "template = \"\"\"You are an AI language model assistant. Your task is to generate five\n",
        "different versions of the given user question to retrieve relevant documents from a vector\n",
        "database. By generating multiple perspectives on the user question, your goal is to help\n",
        "the user overcome some of the limitations of the distance-based similarity search.\n",
        "Provide these alternative questions separated by newlines. Original question: {question}\"\"\"\n",
        "prompt_perspectives = ChatPromptTemplate.from_template(template)\n",
        "\n",
        "from langchain_core.output_parsers import StrOutputParser\n",
        "from langchain_openai import ChatOpenAI\n",
        "\n",
        "generate_queries = (\n",
        "    prompt_perspectives\n",
        "    | ChatOpenAI(temperature=0)\n",
        "    | StrOutputParser()\n",
        "    | (lambda x: x.split(\"\\n\"))\n",
        ")"
      ],
      "metadata": {
        "id": "okHtvY7X8gv1"
      },
      "execution_count": 16,
      "outputs": []
    },
    {
      "cell_type": "code",
      "source": [
        "generate_queries.invoke(\"Who did Irving Bank Corp acquire a division from?\")"
      ],
      "metadata": {
        "id": "QV-YdWMH8n6k",
        "colab": {
          "base_uri": "https://localhost:8080/"
        },
        "outputId": "e6eda352-3c1b-435e-d643-0cfb8a4a5168"
      },
      "execution_count": 17,
      "outputs": [
        {
          "output_type": "execute_result",
          "data": {
            "text/plain": [
              "['1. From which company did Irving Bank Corp acquire a division?',\n",
              " '2. What company did Irving Bank Corp purchase a division from?',\n",
              " '3. Which division was acquired by Irving Bank Corp from another company?',\n",
              " '4. Whose division did Irving Bank Corp acquire?',\n",
              " '5. What was the name of the company from which Irving Bank Corp acquired a division?']"
            ]
          },
          "metadata": {},
          "execution_count": 17
        }
      ]
    },
    {
      "cell_type": "code",
      "source": [
        "from langchain.load import dumps, loads\n",
        "\n",
        "def get_unique_union(documents: list[list]):\n",
        "    \"\"\" Unique union of retrieved docs \"\"\"\n",
        "    # Flatten list of lists, and convert each Document to string\n",
        "    flattened_docs = [dumps(doc) for sublist in documents for doc in sublist]\n",
        "    # Get unique documents\n",
        "    unique_docs = list(set(flattened_docs))\n",
        "    return [loads(doc) for doc in unique_docs]\n",
        "\n",
        "# Retrieve\n",
        "question = \"Who did Irving Bank Corp acquire a division from?\"\n",
        "retrieval_chain = generate_queries | retriever.map() | get_unique_union\n",
        "docs = retrieval_chain.invoke({\"question\":question})"
      ],
      "metadata": {
        "id": "moaNyMCo813O",
        "colab": {
          "base_uri": "https://localhost:8080/"
        },
        "outputId": "7cc92ad5-bd73-4429-b9dc-fb47b8163a48"
      },
      "execution_count": 18,
      "outputs": [
        {
          "output_type": "stream",
          "name": "stderr",
          "text": [
            "<ipython-input-18-0dadb7109b1a>:9: LangChainBetaWarning: The function `loads` is in beta. It is actively being worked on, so the API may change.\n",
            "  return [loads(doc) for doc in unique_docs]\n"
          ]
        }
      ]
    },
    {
      "cell_type": "code",
      "source": [
        "for i in range(len(docs)):\n",
        "  print(f\"{i+1}. {docs[1].page_content}\\n \\n\")"
      ],
      "metadata": {
        "id": "AU5uIHWv8909",
        "colab": {
          "base_uri": "https://localhost:8080/"
        },
        "outputId": "496f61f7-397d-4519-cd4f-1ee6293250d2"
      },
      "execution_count": 19,
      "outputs": [
        {
          "output_type": "stream",
          "name": "stdout",
          "text": [
            "1. BANK OF NEW YORK REAFFIRMS TERMS FOR IRVING <V> The Bank of New York Corp <BK> said it\n",
            "reaffirmed the terms of its offer for Irving Bank Corp despite\n",
            "the drop in the Bank of New York's share price to 30-1/8, a\n",
            "Bank of New York spokesman said.\n",
            "    \"The offer still stands, we have not changed our offer,\" a\n",
            "Bank of New York spokesman said.\n",
            "    Irving would not comment on how the drop in the market\n",
            "affects its position on the bid or whether it would buy back\n",
            "any of its own shares.\n",
            "    Earlier this month, Irving rejected the bid as inadequate\n",
            "and said it wanted to retain its independence.\n",
            "    In late September, Bank of New York offered 80 dlrs per\n",
            "share in cash for 47.4 pct of Irving. For the remaining 52.6\n",
            "pct, it offered an exchange of 1.9 shares of its shares for one\n",
            "Irving share.\n",
            "    At that time, the stock purchase portion was worth close to\n",
            "80 dlrs per share, but now that portion is worth 53 dlrs per\n",
            "share for a net price of 68 dlrs, one analyst said.\n",
            "    According to the prospectus offer, shareholders may tender\n",
            "for all cash or all shares on a first come, first serve basis.\n",
            "    Analysts were mixed about how the stock price drop would\n",
            "affect the acquisition.\n",
            "    \"If it gets to the Irving shareholders, they would approve\n",
            "it, but Irving hopes the offer won't go to the shareholders,\"\n",
            "said Mark Alpert, banking analyst with Bear Stearns Cos Inc.\n",
            "    \"And the market is saying the deal won't go through,\"\n",
            "Alpert said.\n",
            "    \"The transaction looks highly unlikely to be completed at\n",
            "present. If Irving wouldn't go with the offer at 80 dlrs a\n",
            "share, then they won't go at a lower price,\" another analyst\n",
            "said.\n",
            "    The analyst also doubted that Bank of New York could afford\n",
            "to retain its original offer.\n",
            "    However, industry sources were more uncertain about\n",
            "prospects for the deal.\n",
            "    \"With Irving's price so low, Bank of New York's offer will\n",
            "look good to Irving shareholders,\" said Michael Flores, a\n",
            "consultant at Bank Earnings International, a consulting firm.\n",
            "    The drop of Irving's share to 44 dlrs per share, which is\n",
            "about a 26 dlr drop from the beginning of last week, increases\n",
            "the chance that Bank of New York will succeed, Flores said.\n",
            "    Analysts said that the drop in bank stock prices is likely\n",
            "to depress the level of mergers and acquisition in the banking\n",
            "industry.\n",
            "    \"Bank takeovers are less likely because banks can't use\n",
            "their own stock to make acquisitions because their share price\n",
            "is too depressed,\" Alpert said.\n",
            "    Since only banks can buy another bank, the only other\n",
            "possible acquirors would be a foreign bank, Alpert said.\n",
            "    \"In the market drop the stock of acquirors got clobbered\n",
            "more than the acquirees,\" another analyst said.\n",
            " Reuter\n",
            "\u0003\n",
            " \n",
            "\n",
            "2. BANK OF NEW YORK REAFFIRMS TERMS FOR IRVING <V> The Bank of New York Corp <BK> said it\n",
            "reaffirmed the terms of its offer for Irving Bank Corp despite\n",
            "the drop in the Bank of New York's share price to 30-1/8, a\n",
            "Bank of New York spokesman said.\n",
            "    \"The offer still stands, we have not changed our offer,\" a\n",
            "Bank of New York spokesman said.\n",
            "    Irving would not comment on how the drop in the market\n",
            "affects its position on the bid or whether it would buy back\n",
            "any of its own shares.\n",
            "    Earlier this month, Irving rejected the bid as inadequate\n",
            "and said it wanted to retain its independence.\n",
            "    In late September, Bank of New York offered 80 dlrs per\n",
            "share in cash for 47.4 pct of Irving. For the remaining 52.6\n",
            "pct, it offered an exchange of 1.9 shares of its shares for one\n",
            "Irving share.\n",
            "    At that time, the stock purchase portion was worth close to\n",
            "80 dlrs per share, but now that portion is worth 53 dlrs per\n",
            "share for a net price of 68 dlrs, one analyst said.\n",
            "    According to the prospectus offer, shareholders may tender\n",
            "for all cash or all shares on a first come, first serve basis.\n",
            "    Analysts were mixed about how the stock price drop would\n",
            "affect the acquisition.\n",
            "    \"If it gets to the Irving shareholders, they would approve\n",
            "it, but Irving hopes the offer won't go to the shareholders,\"\n",
            "said Mark Alpert, banking analyst with Bear Stearns Cos Inc.\n",
            "    \"And the market is saying the deal won't go through,\"\n",
            "Alpert said.\n",
            "    \"The transaction looks highly unlikely to be completed at\n",
            "present. If Irving wouldn't go with the offer at 80 dlrs a\n",
            "share, then they won't go at a lower price,\" another analyst\n",
            "said.\n",
            "    The analyst also doubted that Bank of New York could afford\n",
            "to retain its original offer.\n",
            "    However, industry sources were more uncertain about\n",
            "prospects for the deal.\n",
            "    \"With Irving's price so low, Bank of New York's offer will\n",
            "look good to Irving shareholders,\" said Michael Flores, a\n",
            "consultant at Bank Earnings International, a consulting firm.\n",
            "    The drop of Irving's share to 44 dlrs per share, which is\n",
            "about a 26 dlr drop from the beginning of last week, increases\n",
            "the chance that Bank of New York will succeed, Flores said.\n",
            "    Analysts said that the drop in bank stock prices is likely\n",
            "to depress the level of mergers and acquisition in the banking\n",
            "industry.\n",
            "    \"Bank takeovers are less likely because banks can't use\n",
            "their own stock to make acquisitions because their share price\n",
            "is too depressed,\" Alpert said.\n",
            "    Since only banks can buy another bank, the only other\n",
            "possible acquirors would be a foreign bank, Alpert said.\n",
            "    \"In the market drop the stock of acquirors got clobbered\n",
            "more than the acquirees,\" another analyst said.\n",
            " Reuter\n",
            "\u0003\n",
            " \n",
            "\n",
            "3. BANK OF NEW YORK REAFFIRMS TERMS FOR IRVING <V> The Bank of New York Corp <BK> said it\n",
            "reaffirmed the terms of its offer for Irving Bank Corp despite\n",
            "the drop in the Bank of New York's share price to 30-1/8, a\n",
            "Bank of New York spokesman said.\n",
            "    \"The offer still stands, we have not changed our offer,\" a\n",
            "Bank of New York spokesman said.\n",
            "    Irving would not comment on how the drop in the market\n",
            "affects its position on the bid or whether it would buy back\n",
            "any of its own shares.\n",
            "    Earlier this month, Irving rejected the bid as inadequate\n",
            "and said it wanted to retain its independence.\n",
            "    In late September, Bank of New York offered 80 dlrs per\n",
            "share in cash for 47.4 pct of Irving. For the remaining 52.6\n",
            "pct, it offered an exchange of 1.9 shares of its shares for one\n",
            "Irving share.\n",
            "    At that time, the stock purchase portion was worth close to\n",
            "80 dlrs per share, but now that portion is worth 53 dlrs per\n",
            "share for a net price of 68 dlrs, one analyst said.\n",
            "    According to the prospectus offer, shareholders may tender\n",
            "for all cash or all shares on a first come, first serve basis.\n",
            "    Analysts were mixed about how the stock price drop would\n",
            "affect the acquisition.\n",
            "    \"If it gets to the Irving shareholders, they would approve\n",
            "it, but Irving hopes the offer won't go to the shareholders,\"\n",
            "said Mark Alpert, banking analyst with Bear Stearns Cos Inc.\n",
            "    \"And the market is saying the deal won't go through,\"\n",
            "Alpert said.\n",
            "    \"The transaction looks highly unlikely to be completed at\n",
            "present. If Irving wouldn't go with the offer at 80 dlrs a\n",
            "share, then they won't go at a lower price,\" another analyst\n",
            "said.\n",
            "    The analyst also doubted that Bank of New York could afford\n",
            "to retain its original offer.\n",
            "    However, industry sources were more uncertain about\n",
            "prospects for the deal.\n",
            "    \"With Irving's price so low, Bank of New York's offer will\n",
            "look good to Irving shareholders,\" said Michael Flores, a\n",
            "consultant at Bank Earnings International, a consulting firm.\n",
            "    The drop of Irving's share to 44 dlrs per share, which is\n",
            "about a 26 dlr drop from the beginning of last week, increases\n",
            "the chance that Bank of New York will succeed, Flores said.\n",
            "    Analysts said that the drop in bank stock prices is likely\n",
            "to depress the level of mergers and acquisition in the banking\n",
            "industry.\n",
            "    \"Bank takeovers are less likely because banks can't use\n",
            "their own stock to make acquisitions because their share price\n",
            "is too depressed,\" Alpert said.\n",
            "    Since only banks can buy another bank, the only other\n",
            "possible acquirors would be a foreign bank, Alpert said.\n",
            "    \"In the market drop the stock of acquirors got clobbered\n",
            "more than the acquirees,\" another analyst said.\n",
            " Reuter\n",
            "\u0003\n",
            " \n",
            "\n",
            "4. BANK OF NEW YORK REAFFIRMS TERMS FOR IRVING <V> The Bank of New York Corp <BK> said it\n",
            "reaffirmed the terms of its offer for Irving Bank Corp despite\n",
            "the drop in the Bank of New York's share price to 30-1/8, a\n",
            "Bank of New York spokesman said.\n",
            "    \"The offer still stands, we have not changed our offer,\" a\n",
            "Bank of New York spokesman said.\n",
            "    Irving would not comment on how the drop in the market\n",
            "affects its position on the bid or whether it would buy back\n",
            "any of its own shares.\n",
            "    Earlier this month, Irving rejected the bid as inadequate\n",
            "and said it wanted to retain its independence.\n",
            "    In late September, Bank of New York offered 80 dlrs per\n",
            "share in cash for 47.4 pct of Irving. For the remaining 52.6\n",
            "pct, it offered an exchange of 1.9 shares of its shares for one\n",
            "Irving share.\n",
            "    At that time, the stock purchase portion was worth close to\n",
            "80 dlrs per share, but now that portion is worth 53 dlrs per\n",
            "share for a net price of 68 dlrs, one analyst said.\n",
            "    According to the prospectus offer, shareholders may tender\n",
            "for all cash or all shares on a first come, first serve basis.\n",
            "    Analysts were mixed about how the stock price drop would\n",
            "affect the acquisition.\n",
            "    \"If it gets to the Irving shareholders, they would approve\n",
            "it, but Irving hopes the offer won't go to the shareholders,\"\n",
            "said Mark Alpert, banking analyst with Bear Stearns Cos Inc.\n",
            "    \"And the market is saying the deal won't go through,\"\n",
            "Alpert said.\n",
            "    \"The transaction looks highly unlikely to be completed at\n",
            "present. If Irving wouldn't go with the offer at 80 dlrs a\n",
            "share, then they won't go at a lower price,\" another analyst\n",
            "said.\n",
            "    The analyst also doubted that Bank of New York could afford\n",
            "to retain its original offer.\n",
            "    However, industry sources were more uncertain about\n",
            "prospects for the deal.\n",
            "    \"With Irving's price so low, Bank of New York's offer will\n",
            "look good to Irving shareholders,\" said Michael Flores, a\n",
            "consultant at Bank Earnings International, a consulting firm.\n",
            "    The drop of Irving's share to 44 dlrs per share, which is\n",
            "about a 26 dlr drop from the beginning of last week, increases\n",
            "the chance that Bank of New York will succeed, Flores said.\n",
            "    Analysts said that the drop in bank stock prices is likely\n",
            "to depress the level of mergers and acquisition in the banking\n",
            "industry.\n",
            "    \"Bank takeovers are less likely because banks can't use\n",
            "their own stock to make acquisitions because their share price\n",
            "is too depressed,\" Alpert said.\n",
            "    Since only banks can buy another bank, the only other\n",
            "possible acquirors would be a foreign bank, Alpert said.\n",
            "    \"In the market drop the stock of acquirors got clobbered\n",
            "more than the acquirees,\" another analyst said.\n",
            " Reuter\n",
            "\u0003\n",
            " \n",
            "\n"
          ]
        }
      ]
    },
    {
      "cell_type": "markdown",
      "source": [
        "## **Generate**\n",
        "We process the retrieved information to generate a response using a language model, enhancing the chatbot's ability to answer complex queries."
      ],
      "metadata": {
        "id": "cLXvCb5iCGoM"
      }
    },
    {
      "cell_type": "code",
      "source": [
        "from operator import itemgetter\n",
        "from langchain_openai import ChatOpenAI\n",
        "from langchain_core.runnables import RunnablePassthrough\n",
        "from langchain.memory import ConversationBufferWindowMemory\n",
        "from langchain.prompts import ChatPromptTemplate\n",
        "from langchain_core.output_parsers.string import StrOutputParser\n",
        "\n",
        "# RAG template\n",
        "template = \"\"\"Use the given context and conversation history to directly answer the question concisely:\n",
        "\n",
        "Context:\n",
        "{context}\n",
        "\n",
        "Chat history:\n",
        "{chat_history}\n",
        "\n",
        "New human question: {question}\n",
        "\"\"\"\n",
        "\n",
        "prompt = ChatPromptTemplate.from_template(template)\n",
        "\n",
        "# Initialize model and memory\n",
        "llm = ChatOpenAI(temperature=1)\n",
        "memory = ConversationBufferWindowMemory(k = 3, memory_key=\"chat_history\")\n",
        "\n",
        "# Define RAG pipeline without memory directly\n",
        "final_rag_chain = (\n",
        "    {\"context\": itemgetter(\"context\"),\n",
        "     \"question\": itemgetter(\"question\"),\n",
        "     \"chat_history\": itemgetter(\"chat_history\")}  # Include chat_history as a key here\n",
        "    | prompt\n",
        "    | llm\n",
        "    | StrOutputParser()\n",
        ")\n",
        "\n",
        "# Retrieve the chat history from memory and include it in the input\n",
        "def invoke_with_memory(question, retrieval_chain):\n",
        "    # Load current chat history from memory\n",
        "    chat_history = memory.load_memory_variables({}).get(\"chat_history\", \"\")\n",
        "    result = final_rag_chain.invoke({\n",
        "        \"question\": question,\n",
        "        \"context\": retrieval_chain,  # Assuming retrieval_chain is defined elsewhere\n",
        "        \"chat_history\": chat_history,\n",
        "    })\n",
        "    # Update memory with the new interaction\n",
        "    memory.save_context({\"question\": question}, {\"answer\": result})\n",
        "    return result"
      ],
      "metadata": {
        "id": "ji4vw1fj9UOt",
        "colab": {
          "base_uri": "https://localhost:8080/"
        },
        "outputId": "7651996f-7e2c-4bec-e451-10d9d3b65314"
      },
      "execution_count": 20,
      "outputs": [
        {
          "output_type": "stream",
          "name": "stderr",
          "text": [
            "<ipython-input-20-ab79890371de>:24: LangChainDeprecationWarning: Please see the migration guide at: https://python.langchain.com/docs/versions/migrating_memory/\n",
            "  memory = ConversationBufferWindowMemory(k = 3, memory_key=\"chat_history\")\n"
          ]
        }
      ]
    },
    {
      "cell_type": "markdown",
      "source": [
        "## **UI**\n",
        "Finally, we build a simple interface with Gradio to interact with the news chatbot. Users can type questions, and the chatbot will respond with relevant information."
      ],
      "metadata": {
        "id": "X8OPRYV8CQms"
      }
    },
    {
      "cell_type": "code",
      "source": [
        "import gradio as gr\n",
        "\n",
        "chat_history = []\n",
        "\n",
        "def news_chatbot(query):\n",
        "    global chat_history\n",
        "\n",
        "    response = invoke_with_memory(query, retrieval_chain)\n",
        "    response = response.replace(\"Based on the context and previous conversation, \", \"\")\n",
        "    response = response.replace(\"Based on the conversation and context provided, \", \"\")\n",
        "    response = response.replace(\"Based on our previous conversation,\", \"\")\n",
        "    response = response.replace(\"Based on the context provided and our previous conversation,\", \"\")\n",
        "\n",
        "\n",
        "    chat_history.append((query, response))\n",
        "\n",
        "    return chat_history\n",
        "\n",
        "def reset_conversation():\n",
        "    global chat_history\n",
        "    chat_history = []\n",
        "    memory.aclear()\n",
        "    return chat_history\n",
        "\n",
        "with gr.Blocks() as interface:\n",
        "    gr.Markdown(\"News chatbot\")\n",
        "    gr.Markdown(\"Ask me any News question, and I'll try to provide helpful information based on the provided data.\")\n",
        "\n",
        "    chatbot = gr.Chatbot()\n",
        "    query = gr.Textbox(label=\"Your Question\", placeholder=\"Type your medical question here...\")\n",
        "\n",
        "    submit_button = gr.Button(\"Get Answer\")\n",
        "    reset_button = gr.Button(\"Start New Conversation\")\n",
        "\n",
        "    submit_button.click(fn=news_chatbot, inputs=query, outputs=chatbot)\n",
        "    reset_button.click(fn=reset_conversation, inputs=None, outputs=chatbot)\n",
        "\n",
        "    submit_button.click(lambda: \"\", None, query)\n",
        "\n",
        "interface.launch()"
      ],
      "metadata": {
        "id": "QRtvVrjX9b19",
        "colab": {
          "base_uri": "https://localhost:8080/",
          "height": 680
        },
        "outputId": "bf8a8216-03bb-4326-b5d7-9256e95ef588"
      },
      "execution_count": 21,
      "outputs": [
        {
          "output_type": "stream",
          "name": "stderr",
          "text": [
            "/usr/local/lib/python3.10/dist-packages/gradio/components/chatbot.py:237: UserWarning: You have not specified a value for the `type` parameter. Defaulting to the 'tuples' format for chatbot messages, but this is deprecated and will be removed in a future version of Gradio. Please set type='messages' instead, which uses openai-style dictionaries with 'role' and 'content' keys.\n",
            "  warnings.warn(\n"
          ]
        },
        {
          "output_type": "stream",
          "name": "stdout",
          "text": [
            "Running Gradio in a Colab notebook requires sharing enabled. Automatically setting `share=True` (you can turn this off by setting `share=False` in `launch()` explicitly).\n",
            "\n",
            "Colab notebook detected. To show errors in colab notebook, set debug=True in launch()\n",
            "* Running on public URL: https://31615f4462efcf2e33.gradio.live\n",
            "\n",
            "This share link expires in 72 hours. For free permanent hosting and GPU upgrades, run `gradio deploy` from the terminal in the working directory to deploy to Hugging Face Spaces (https://huggingface.co/spaces)\n"
          ]
        },
        {
          "output_type": "display_data",
          "data": {
            "text/plain": [
              "<IPython.core.display.HTML object>"
            ],
            "text/html": [
              "<div><iframe src=\"https://31615f4462efcf2e33.gradio.live\" width=\"100%\" height=\"500\" allow=\"autoplay; camera; microphone; clipboard-read; clipboard-write;\" frameborder=\"0\" allowfullscreen></iframe></div>"
            ]
          },
          "metadata": {}
        },
        {
          "output_type": "execute_result",
          "data": {
            "text/plain": []
          },
          "metadata": {},
          "execution_count": 21
        }
      ]
    }
  ]
}